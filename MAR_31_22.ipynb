{
 "cells": [
  {
   "cell_type": "code",
   "execution_count": 2,
   "id": "e0357f42",
   "metadata": {},
   "outputs": [
    {
     "data": {
      "text/plain": [
       "range(0, 10)"
      ]
     },
     "execution_count": 2,
     "metadata": {},
     "output_type": "execute_result"
    }
   ],
   "source": [
    "range(0,10,1)"
   ]
  },
  {
   "cell_type": "code",
   "execution_count": 3,
   "id": "97a4c144",
   "metadata": {},
   "outputs": [
    {
     "name": "stdout",
     "output_type": "stream",
     "text": [
      "0\n",
      "1\n",
      "2\n"
     ]
    }
   ],
   "source": [
    "for i in range(3):\n",
    "    print(i)"
   ]
  },
  {
   "cell_type": "code",
   "execution_count": 4,
   "id": "016d90ae",
   "metadata": {},
   "outputs": [
    {
     "name": "stdout",
     "output_type": "stream",
     "text": [
      "Enter number to generate Table: 6\n",
      "6 x 1 = 6\n",
      "6 x 2 = 12\n",
      "6 x 3 = 18\n",
      "6 x 4 = 24\n",
      "6 x 5 = 30\n",
      "6 x 6 = 36\n",
      "6 x 7 = 42\n",
      "6 x 8 = 48\n",
      "6 x 9 = 54\n",
      "6 x 10 = 60\n"
     ]
    }
   ],
   "source": [
    "t = int(input(\"Enter number to generate Table: \"))\n",
    "for i in range(1,11,):\n",
    "    print(t, \"x\", i, \"=\", t *i)"
   ]
  },
  {
   "cell_type": "code",
   "execution_count": 16,
   "id": "f6335f47",
   "metadata": {},
   "outputs": [
    {
     "name": "stdout",
     "output_type": "stream",
     "text": [
      "****\n"
     ]
    }
   ],
   "source": [
    "print(4*\"*\")"
   ]
  },
  {
   "cell_type": "code",
   "execution_count": 5,
   "id": "78f1ed1b",
   "metadata": {},
   "outputs": [
    {
     "name": "stdout",
     "output_type": "stream",
     "text": [
      "*\n",
      "**\n",
      "***\n",
      "****\n",
      "*****\n",
      "******\n",
      "*******\n",
      "********\n",
      "*********\n",
      "**********\n"
     ]
    }
   ],
   "source": [
    "for i in range(1,11):\n",
    "    print(i*\"*\")"
   ]
  },
  {
   "cell_type": "code",
   "execution_count": 6,
   "id": "e278bef1",
   "metadata": {},
   "outputs": [
    {
     "name": "stdout",
     "output_type": "stream",
     "text": [
      "**********\n",
      "*********\n",
      "********\n",
      "*******\n",
      "******\n",
      "*****\n",
      "****\n",
      "***\n",
      "**\n",
      "*\n"
     ]
    }
   ],
   "source": [
    "for i in range(10,0,-1):\n",
    "    print(i*\"*\")"
   ]
  },
  {
   "cell_type": "code",
   "execution_count": 7,
   "id": "1a767ff9",
   "metadata": {},
   "outputs": [
    {
     "name": "stdout",
     "output_type": "stream",
     "text": [
      "2 x 10 = 20\n",
      "2 x 9 = 18\n",
      "2 x 8 = 16\n",
      "2 x 7 = 14\n",
      "2 x 6 = 12\n",
      "2 x 5 = 10\n",
      "2 x 4 = 8\n",
      "2 x 3 = 6\n",
      "2 x 2 = 4\n",
      "2 x 1 = 2\n"
     ]
    }
   ],
   "source": [
    "t = 2\n",
    "for i in range(10,0,-1):\n",
    "    print(t, \"x\", i, \"=\", t *i)"
   ]
  },
  {
   "cell_type": "code",
   "execution_count": 8,
   "id": "02de7037",
   "metadata": {},
   "outputs": [
    {
     "name": "stdout",
     "output_type": "stream",
     "text": [
      "2 x 2 = 4\n",
      "2 x 4 = 8\n",
      "2 x 6 = 12\n",
      "2 x 8 = 16\n",
      "2 x 10 = 20\n"
     ]
    }
   ],
   "source": [
    "# Even number generation in range\n",
    "t = 2\n",
    "for i in range(1,11,1):\n",
    "    if (i%2) == 0:\n",
    "        print(t, \"x\", i, \"=\", t *i)            "
   ]
  },
  {
   "cell_type": "code",
   "execution_count": 9,
   "id": "dc1e4176",
   "metadata": {},
   "outputs": [
    {
     "name": "stdout",
     "output_type": "stream",
     "text": [
      "2 x 1 = 2\n",
      "2 x 3 = 6\n",
      "2 x 5 = 10\n",
      "2 x 7 = 14\n",
      "2 x 9 = 18\n"
     ]
    }
   ],
   "source": [
    "# odd number generation in range\n",
    "t = 2\n",
    "for i in range(1,11,1):\n",
    "    if (i%2) != 0:\n",
    "        print(t, \"x\", i, \"=\", t *i)            "
   ]
  },
  {
   "cell_type": "code",
   "execution_count": 10,
   "id": "4f94a891",
   "metadata": {},
   "outputs": [
    {
     "name": "stdout",
     "output_type": "stream",
     "text": [
      "2 x 1 = 2\n",
      "2 x 3 = 6\n",
      "2 x 5 = 10\n",
      "2 x 7 = 14\n",
      "2 x 9 = 18\n"
     ]
    }
   ],
   "source": [
    "# odd number generation in range\n",
    "t = 2\n",
    "for i in range(1,11,1):\n",
    "    if (i%2) == 1:\n",
    "        print(t, \"x\", i, \"=\", t *i)          "
   ]
  },
  {
   "cell_type": "code",
   "execution_count": 11,
   "id": "f7d9e591",
   "metadata": {},
   "outputs": [
    {
     "name": "stdout",
     "output_type": "stream",
     "text": [
      "1 : Odd\n",
      "2 : Even\n",
      "3 : Odd\n",
      "4 : Even\n",
      "5 : Odd\n",
      "6 : Even\n",
      "7 : Odd\n",
      "8 : Even\n",
      "9 : Odd\n",
      "10 : Even\n"
     ]
    }
   ],
   "source": [
    "# Even and odd number generation in range through input\n",
    "for i in range(1,11,1):\n",
    "    if (i%2) == 1:\n",
    "        print(i, \": Odd\")\n",
    "    else:\n",
    "        print(i,\": Even\")"
   ]
  },
  {
   "cell_type": "code",
   "execution_count": 12,
   "id": "a2d2168e",
   "metadata": {},
   "outputs": [
    {
     "name": "stdout",
     "output_type": "stream",
     "text": [
      "23\n",
      "66\n",
      "41\n",
      "89\n",
      "78\n",
      "33\n"
     ]
    }
   ],
   "source": [
    "lst = [23, 66, 41, 89, 78, 33]\n",
    "for i in lst:\n",
    "    print(i)"
   ]
  },
  {
   "cell_type": "code",
   "execution_count": 13,
   "id": "97bb588b",
   "metadata": {},
   "outputs": [
    {
     "name": "stdout",
     "output_type": "stream",
     "text": [
      "23 : Odd\n",
      "66 : Even\n",
      "41 : Odd\n",
      "89 : Odd\n",
      "78 : Even\n",
      "33 : Odd\n"
     ]
    }
   ],
   "source": [
    "lst = [23, 66, 41, 89, 78, 33]\n",
    "for i in lst:\n",
    "    if (i%2) == 1:\n",
    "        print(i, \": Odd\")\n",
    "    else:\n",
    "        print(i,\": Even\")"
   ]
  },
  {
   "cell_type": "code",
   "execution_count": 14,
   "id": "17515513",
   "metadata": {},
   "outputs": [
    {
     "name": "stdout",
     "output_type": "stream",
     "text": [
      "23\n",
      "66\n",
      "41\n",
      "89\n",
      "78\n",
      "33\n"
     ]
    }
   ],
   "source": [
    "Lst = [23, 66, 41, 89, 78, 33]\n",
    "for i in range(0,len(Lst)):\n",
    "    print(Lst[i])\n"
   ]
  },
  {
   "cell_type": "code",
   "execution_count": 15,
   "id": "e7345e67",
   "metadata": {},
   "outputs": [
    {
     "name": "stdout",
     "output_type": "stream",
     "text": [
      "330\n"
     ]
    }
   ],
   "source": [
    "print(sum(Lst))"
   ]
  },
  {
   "cell_type": "code",
   "execution_count": 19,
   "id": "698dda5c",
   "metadata": {},
   "outputs": [
    {
     "name": "stdout",
     "output_type": "stream",
     "text": [
      "i=  23\n",
      "sum= 23\n",
      "i=  66\n",
      "sum= 89\n",
      "i=  41\n",
      "sum= 130\n",
      "i=  89\n",
      "sum= 219\n",
      "i=  78\n",
      "sum= 297\n",
      "i=  33\n",
      "sum= 330\n"
     ]
    }
   ],
   "source": [
    "sum = 0\n",
    "for i in range(0, len(Lst)):\n",
    "    print('i= ',lst[i])\n",
    "    sum = sum + Lst[i]\n",
    "    print('sum=',sum)"
   ]
  },
  {
   "cell_type": "code",
   "execution_count": 20,
   "id": "3a66c16f",
   "metadata": {},
   "outputs": [
    {
     "name": "stdout",
     "output_type": "stream",
     "text": [
      "330\n"
     ]
    }
   ],
   "source": [
    "sum = 0\n",
    "for i in range(0, len(Lst)):\n",
    "    sum = sum + Lst[i]\n",
    "print(sum)"
   ]
  },
  {
   "cell_type": "markdown",
   "id": "4439b9e3",
   "metadata": {},
   "source": [
    "#Task# sum, min, max, count(without len), Avg, search a value in list"
   ]
  },
  {
   "cell_type": "code",
   "execution_count": 23,
   "id": "3607dc53",
   "metadata": {},
   "outputs": [],
   "source": [
    "Lst = [23,66,41,9,78,8]"
   ]
  },
  {
   "cell_type": "code",
   "execution_count": 24,
   "id": "b97ae876",
   "metadata": {},
   "outputs": [
    {
     "name": "stdout",
     "output_type": "stream",
     "text": [
      "8\n"
     ]
    }
   ],
   "source": [
    "# find minimum value in list\n",
    "mn = Lst[0]\n",
    "for i in range(1, len(Lst)):\n",
    "    if Lst[i] < mn:\n",
    "        mn = Lst[i]\n",
    "print(mn)"
   ]
  },
  {
   "cell_type": "code",
   "execution_count": 25,
   "id": "f6f8e8df",
   "metadata": {},
   "outputs": [
    {
     "name": "stdout",
     "output_type": "stream",
     "text": [
      "78\n"
     ]
    }
   ],
   "source": [
    "# find maximum value in list\n",
    "mn = Lst[0]\n",
    "for i in range(1, len(Lst)):\n",
    "    if Lst[i] > mn:\n",
    "        mn = Lst[i]\n",
    "print(mn)"
   ]
  },
  {
   "cell_type": "code",
   "execution_count": 27,
   "id": "67751aa1",
   "metadata": {},
   "outputs": [
    {
     "name": "stdout",
     "output_type": "stream",
     "text": [
      "8\n"
     ]
    }
   ],
   "source": [
    "mn = Lst[0]\n",
    "for i in Lst:\n",
    "    if i < mn:\n",
    "        mn = i\n",
    "print(mn)"
   ]
  },
  {
   "cell_type": "code",
   "execution_count": 29,
   "id": "7d32a0ab",
   "metadata": {},
   "outputs": [
    {
     "name": "stdout",
     "output_type": "stream",
     "text": [
      "66\n",
      "78\n"
     ]
    }
   ],
   "source": [
    "mx = Lst[0]\n",
    "for i in Lst:\n",
    "    if i > mx:\n",
    "        mx = i\n",
    "        print(mx)"
   ]
  },
  {
   "cell_type": "code",
   "execution_count": 31,
   "id": "f49e78df",
   "metadata": {},
   "outputs": [
    {
     "name": "stdout",
     "output_type": "stream",
     "text": [
      "225\n"
     ]
    }
   ],
   "source": [
    "# sum of values of the list\n",
    "sum = 0\n",
    "for i in range(0, len(Lst)):\n",
    "    sum = sum + Lst[i]\n",
    "print(sum)"
   ]
  },
  {
   "cell_type": "code",
   "execution_count": 32,
   "id": "2e1f84a5",
   "metadata": {},
   "outputs": [
    {
     "name": "stdout",
     "output_type": "stream",
     "text": [
      "6\n"
     ]
    }
   ],
   "source": [
    "# count the values without using len\n",
    "count = 0\n",
    "for i in Lst:\n",
    "    count = count + 1\n",
    "print(count)\n"
   ]
  },
  {
   "cell_type": "code",
   "execution_count": 33,
   "id": "48bda7e5",
   "metadata": {},
   "outputs": [
    {
     "name": "stdout",
     "output_type": "stream",
     "text": [
      "37.5\n"
     ]
    }
   ],
   "source": [
    "# avg\n",
    "avg = sum / count\n",
    "print(avg)"
   ]
  },
  {
   "cell_type": "code",
   "execution_count": 34,
   "id": "e0b7a737",
   "metadata": {},
   "outputs": [
    {
     "name": "stdout",
     "output_type": "stream",
     "text": [
      "False\n"
     ]
    }
   ],
   "source": [
    "# search a value in list\n",
    "a = 33\n",
    "res = \"False\"\n",
    "for i in Lst:\n",
    "    if i == a:\n",
    "        res = \"true\"\n",
    "    \n",
    "print(res)\n"
   ]
  },
  {
   "cell_type": "code",
   "execution_count": 35,
   "id": "1fd270dc",
   "metadata": {},
   "outputs": [
    {
     "name": "stdout",
     "output_type": "stream",
     "text": [
      "Enter a Number: 41\n",
      "41 Found\n"
     ]
    }
   ],
   "source": [
    "# search a value in list\n",
    "Lst = [23, 66, 41,9, 78, 33]\n",
    "\n",
    "a = int(input(\"Enter a Number: \"))\n",
    "res = \"Not Found\"\n",
    "for i in Lst:\n",
    "   # print(i)\n",
    "    if i == a:        \n",
    "        res = \"Found\"\n",
    "        break\n",
    "print(a, res)\n"
   ]
  },
  {
   "cell_type": "code",
   "execution_count": 36,
   "id": "380470ed",
   "metadata": {},
   "outputs": [
    {
     "name": "stdout",
     "output_type": "stream",
     "text": [
      "[66, 78]\n",
      "[23, 41, 89, 33]\n"
     ]
    }
   ],
   "source": [
    "Lst = [23, 66, 41, 89, 78, 33]\n",
    "Olist, Elist = [], [] # null list is created\n",
    "\n",
    "for i in Lst:\n",
    "    if (i%2) == 0:\n",
    "        #print(i, \"Even\")\n",
    "        Elist.append(i)\n",
    "    else:\n",
    "        #print(i, \"Odd\")\n",
    "        Olist.append(i)\n",
    "\n",
    "print(Elist)\n",
    "print(Olist)"
   ]
  },
  {
   "cell_type": "code",
   "execution_count": 37,
   "id": "055c5450",
   "metadata": {},
   "outputs": [],
   "source": [
    "#plaindrome : while reversing the words it is not changed"
   ]
  },
  {
   "cell_type": "code",
   "execution_count": 38,
   "id": "c2751790",
   "metadata": {},
   "outputs": [],
   "source": [
    "txt = [\"python\", \"civic\", \"mangodb\", \"radar\"]"
   ]
  },
  {
   "cell_type": "code",
   "execution_count": 39,
   "id": "812bab9f",
   "metadata": {},
   "outputs": [
    {
     "name": "stdout",
     "output_type": "stream",
     "text": [
      "python is not a plaindrome\n",
      "civic is a plaindrome\n",
      "mangodb is not a plaindrome\n",
      "radar is a plaindrome\n"
     ]
    }
   ],
   "source": [
    "for i in txt:\n",
    "    if i == i[::-1]: #Reverse the word's alphabet\n",
    "        print(i, \"is a plaindrome\")\n",
    "    else:\n",
    "        print(i, \"is not a plaindrome\")\n"
   ]
  },
  {
   "cell_type": "code",
   "execution_count": 41,
   "id": "fc2e5611",
   "metadata": {},
   "outputs": [
    {
     "name": "stdout",
     "output_type": "stream",
     "text": [
      " please enter a string.tarat\n",
      "tarat is a plaindrome\n"
     ]
    }
   ],
   "source": [
    "txt = input(\"please enter a string.\")\n",
    "if (txt==txt[::-1]):\n",
    "    print(txt, \"is a plaindrome\")\n",
    "else:\n",
    "    print(txt, \"is not a plaindrome\")"
   ]
  },
  {
   "cell_type": "code",
   "execution_count": 42,
   "id": "3fbc0949",
   "metadata": {},
   "outputs": [
    {
     "name": "stdout",
     "output_type": "stream",
     "text": [
      "Enter a string:talat\n",
      "The string is a palindrome\n"
     ]
    }
   ],
   "source": [
    "string=input((\"Enter a string:\"))\n",
    "if(string==string[::-1]):\n",
    "      print(\"The string is a palindrome\")\n",
    "else:\n",
    "      print(\"Not a palindrome\")"
   ]
  }
 ],
 "metadata": {
  "kernelspec": {
   "display_name": "Python 3 (ipykernel)",
   "language": "python",
   "name": "python3"
  },
  "language_info": {
   "codemirror_mode": {
    "name": "ipython",
    "version": 3
   },
   "file_extension": ".py",
   "mimetype": "text/x-python",
   "name": "python",
   "nbconvert_exporter": "python",
   "pygments_lexer": "ipython3",
   "version": "3.9.12"
  }
 },
 "nbformat": 4,
 "nbformat_minor": 5
}
