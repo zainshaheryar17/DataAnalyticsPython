{
 "cells": [
  {
   "cell_type": "code",
   "execution_count": 1,
   "id": "715b6149",
   "metadata": {},
   "outputs": [
    {
     "name": "stdout",
     "output_type": "stream",
     "text": [
      "0\n",
      "1\n",
      "2\n"
     ]
    }
   ],
   "source": [
    "for i in range(3):\n",
    "    print(i)"
   ]
  },
  {
   "cell_type": "code",
   "execution_count": 1,
   "id": "2236a0c9",
   "metadata": {},
   "outputs": [],
   "source": [
    "def getIdx(n):\n",
    "    for i in range(n):\n",
    "        print(i)"
   ]
  },
  {
   "cell_type": "code",
   "execution_count": 2,
   "id": "fdb7fff9",
   "metadata": {},
   "outputs": [
    {
     "name": "stdout",
     "output_type": "stream",
     "text": [
      "0\n",
      "1\n",
      "2\n",
      "3\n",
      "4\n"
     ]
    }
   ],
   "source": [
    "getIdx(5)"
   ]
  },
  {
   "cell_type": "code",
   "execution_count": 3,
   "id": "f97d680b",
   "metadata": {},
   "outputs": [
    {
     "name": "stdout",
     "output_type": "stream",
     "text": [
      "Enter number to generate Table: 9\n",
      "9 x 1 = 9\n",
      "9 x 2 = 18\n",
      "9 x 3 = 27\n",
      "9 x 4 = 36\n",
      "9 x 5 = 45\n",
      "9 x 6 = 54\n",
      "9 x 7 = 63\n",
      "9 x 8 = 72\n",
      "9 x 9 = 81\n",
      "9 x 10 = 90\n"
     ]
    }
   ],
   "source": [
    "t = int(input(\"Enter number to generate Table: \"))\n",
    "for i in range(1,11,):\n",
    "    print(t, \"x\", i, \"=\", t *i)"
   ]
  },
  {
   "cell_type": "code",
   "execution_count": 5,
   "id": "e0a9a786",
   "metadata": {},
   "outputs": [],
   "source": [
    "def Table(t,s,e):\n",
    "    for i in range(s,e+1,):\n",
    "        print(t, \"x\", i, \"=\", t *i)"
   ]
  },
  {
   "cell_type": "code",
   "execution_count": 6,
   "id": "e4b103ad",
   "metadata": {},
   "outputs": [
    {
     "name": "stdout",
     "output_type": "stream",
     "text": [
      "7 x 1 = 7\n",
      "7 x 2 = 14\n",
      "7 x 3 = 21\n",
      "7 x 4 = 28\n",
      "7 x 5 = 35\n",
      "7 x 6 = 42\n",
      "7 x 7 = 49\n",
      "7 x 8 = 56\n",
      "7 x 9 = 63\n",
      "7 x 10 = 70\n"
     ]
    }
   ],
   "source": [
    "Table(7,1,10)"
   ]
  },
  {
   "cell_type": "code",
   "execution_count": 7,
   "id": "e7f21ae9",
   "metadata": {},
   "outputs": [
    {
     "name": "stdout",
     "output_type": "stream",
     "text": [
      "*\n",
      "**\n",
      "***\n",
      "****\n",
      "*****\n"
     ]
    }
   ],
   "source": [
    "for i in range(1,6,1):\n",
    "    print(i*\"*\")"
   ]
  },
  {
   "cell_type": "code",
   "execution_count": 8,
   "id": "d0abd43e",
   "metadata": {},
   "outputs": [],
   "source": [
    "def LrTri(n):\n",
    "    for i in range(1,n+1):\n",
    "        print(i*\"*\")"
   ]
  },
  {
   "cell_type": "code",
   "execution_count": 9,
   "id": "2d022587",
   "metadata": {},
   "outputs": [
    {
     "name": "stdout",
     "output_type": "stream",
     "text": [
      "*\n",
      "**\n",
      "***\n",
      "****\n",
      "*****\n",
      "******\n"
     ]
    }
   ],
   "source": [
    "LrTri(6)"
   ]
  },
  {
   "cell_type": "code",
   "execution_count": 10,
   "id": "190b9455",
   "metadata": {},
   "outputs": [
    {
     "name": "stdout",
     "output_type": "stream",
     "text": [
      "Enter a Number9\n"
     ]
    },
    {
     "data": {
      "text/plain": [
       "False"
      ]
     },
     "execution_count": 10,
     "metadata": {},
     "output_type": "execute_result"
    }
   ],
   "source": [
    "n = int(input(\"Enter a Number\"))\n",
    "isE = False\n",
    "if (n%2) == 0:\n",
    "    isE = True\n",
    "isE    "
   ]
  },
  {
   "cell_type": "code",
   "execution_count": 11,
   "id": "5ef4ee03",
   "metadata": {},
   "outputs": [],
   "source": [
    "def isEvn(n):\n",
    "    isE = False\n",
    "    if (n%2) == 0:\n",
    "        isE = True\n",
    "    return isE    "
   ]
  },
  {
   "cell_type": "code",
   "execution_count": 12,
   "id": "e9d45882",
   "metadata": {},
   "outputs": [
    {
     "name": "stdout",
     "output_type": "stream",
     "text": [
      "True\n"
     ]
    }
   ],
   "source": [
    "print(isEvn(8))"
   ]
  },
  {
   "cell_type": "code",
   "execution_count": 13,
   "id": "c252ed76",
   "metadata": {},
   "outputs": [
    {
     "name": "stdout",
     "output_type": "stream",
     "text": [
      "True\n"
     ]
    }
   ],
   "source": [
    "#recommended way to use function. Store the value in a variable and then call the variable.\n",
    "r = isEvn(8)\n",
    "print(r)"
   ]
  },
  {
   "cell_type": "code",
   "execution_count": 14,
   "id": "2a978edf",
   "metadata": {},
   "outputs": [],
   "source": [
    "def SumVal(Lst):\n",
    "    sum = 0\n",
    "    for i in range(0, len(Lst)):\n",
    "        sum = sum + Lst[i]\n",
    "    return sum"
   ]
  },
  {
   "cell_type": "code",
   "execution_count": 15,
   "id": "1d873407",
   "metadata": {},
   "outputs": [],
   "source": [
    "Vals = [5,8,4,11,9,13]"
   ]
  },
  {
   "cell_type": "code",
   "execution_count": 16,
   "id": "105ccb56",
   "metadata": {},
   "outputs": [
    {
     "name": "stdout",
     "output_type": "stream",
     "text": [
      "50\n"
     ]
    }
   ],
   "source": [
    "a = SumVal(Vals)\n",
    "print(a)"
   ]
  },
  {
   "cell_type": "code",
   "execution_count": 20,
   "id": "5d7670e5",
   "metadata": {},
   "outputs": [
    {
     "name": "stdout",
     "output_type": "stream",
     "text": [
      "27\n"
     ]
    }
   ],
   "source": [
    "sm = 0\n",
    "Lst=[2,3,4,5,6,7]\n",
    "for i in Lst:\n",
    "    sm = sm + i\n",
    "print(sm)"
   ]
  },
  {
   "cell_type": "code",
   "execution_count": 18,
   "id": "02c484ce",
   "metadata": {},
   "outputs": [],
   "source": [
    "def SumVals(Lst):\n",
    "    sum = 0\n",
    "    for i in Lst:\n",
    "        sum = sum + i\n",
    "    return sum"
   ]
  },
  {
   "cell_type": "code",
   "execution_count": 21,
   "id": "6d78bce6",
   "metadata": {},
   "outputs": [
    {
     "name": "stdout",
     "output_type": "stream",
     "text": [
      "50\n"
     ]
    }
   ],
   "source": [
    "b = SumVals(Vals)\n",
    "print(b)"
   ]
  },
  {
   "cell_type": "code",
   "execution_count": 22,
   "id": "d4ec7fac",
   "metadata": {},
   "outputs": [
    {
     "name": "stdout",
     "output_type": "stream",
     "text": [
      "B\n"
     ]
    }
   ],
   "source": [
    "Mrks = 78\n",
    "Grd = \"\"\n",
    "if Mrks >= 90:\n",
    "    Grd = \"A+\"\n",
    "elif Mrks >=80:\n",
    "    Grd = \"A\"\n",
    "elif Mrks >=70:\n",
    "    Grd = \"B\"\n",
    "elif Mrks >=60:\n",
    "    Grd = \"c\"\n",
    "elif Mrks >=0:\n",
    "    Grd = \"F\"\n",
    "else:\n",
    "    Grd = \"?\"\n",
    "\n",
    "print(Grd)    \n",
    "    "
   ]
  },
  {
   "cell_type": "code",
   "execution_count": 23,
   "id": "c3079529",
   "metadata": {},
   "outputs": [],
   "source": [
    "def Grade(Mrks):\n",
    "    Grd = \"\"\n",
    "    if Mrks >= 90:\n",
    "        Grd = \"A+\"\n",
    "    elif Mrks >=80:\n",
    "        Grd = \"A\"\n",
    "    elif Mrks >=70:\n",
    "        Grd = \"B\"\n",
    "    elif Mrks >=60:\n",
    "        Grd = \"c\"\n",
    "    elif Mrks >=0:\n",
    "        Grd = \"F\"\n",
    "    else:\n",
    "        Grd = \"?\"\n",
    "    return Grd"
   ]
  },
  {
   "cell_type": "code",
   "execution_count": 24,
   "id": "cab235be",
   "metadata": {},
   "outputs": [
    {
     "name": "stdout",
     "output_type": "stream",
     "text": [
      "c\n"
     ]
    }
   ],
   "source": [
    "r = Grade(65)\n",
    "print(r)"
   ]
  },
  {
   "cell_type": "code",
   "execution_count": 25,
   "id": "f7fd99e1",
   "metadata": {},
   "outputs": [],
   "source": [
    "def Add2num(n1,n2):\n",
    "    \n",
    "    res = n1 + n2\n",
    "\n",
    "    return res"
   ]
  },
  {
   "cell_type": "code",
   "execution_count": 26,
   "id": "e84b9c77",
   "metadata": {},
   "outputs": [
    {
     "name": "stdout",
     "output_type": "stream",
     "text": [
      "15\n"
     ]
    }
   ],
   "source": [
    "r = Add2num(8,7)\n",
    "print(r)"
   ]
  },
  {
   "cell_type": "code",
   "execution_count": 27,
   "id": "bc4ca32e",
   "metadata": {},
   "outputs": [],
   "source": [
    "def Multinum(n1,n2):\n",
    "    \n",
    "    res = n1 * n2\n",
    "\n",
    "    return res"
   ]
  },
  {
   "cell_type": "code",
   "execution_count": 28,
   "id": "66339a06",
   "metadata": {},
   "outputs": [
    {
     "name": "stdout",
     "output_type": "stream",
     "text": [
      "8\n"
     ]
    }
   ],
   "source": [
    "a = Multinum(4,2)\n",
    "print(a)"
   ]
  },
  {
   "cell_type": "code",
   "execution_count": 29,
   "id": "38256a0a",
   "metadata": {},
   "outputs": [],
   "source": [
    "def Cal2Num(n1,n2, op):\n",
    "    if op == \"+\":\n",
    "        res = n1 + n2\n",
    "    elif op == \"*\":\n",
    "        res = n1 * n2\n",
    "    elif op == \"-\":\n",
    "        res = n1 - n2\n",
    "    elif op == \"/\":\n",
    "        res = n1 / n2\n",
    "    elif op == \"**\":\n",
    "        res = n1 ** n2\n",
    "\n",
    "        \n",
    "    return res    \n"
   ]
  },
  {
   "cell_type": "code",
   "execution_count": 30,
   "id": "0455bcb7",
   "metadata": {},
   "outputs": [
    {
     "name": "stdout",
     "output_type": "stream",
     "text": [
      "16777216\n"
     ]
    }
   ],
   "source": [
    "r = Cal2Num(8,8,\"**\")\n",
    "print(r)"
   ]
  },
  {
   "cell_type": "code",
   "execution_count": 31,
   "id": "2e4d43fb",
   "metadata": {},
   "outputs": [],
   "source": [
    "Values = [23,66,41,9,78,33]"
   ]
  },
  {
   "cell_type": "code",
   "execution_count": 32,
   "id": "f3e5da10",
   "metadata": {},
   "outputs": [],
   "source": [
    "def MinNum(Lst):\n",
    "    mn = Lst[0]\n",
    "    for i in range(1, len(Lst)): \n",
    "        if Lst[i] < mn:\n",
    "            mn = Lst[i]\n",
    "    return mn"
   ]
  },
  {
   "cell_type": "code",
   "execution_count": 33,
   "id": "fb64af6e",
   "metadata": {},
   "outputs": [],
   "source": [
    "def Minusnum(n1,n2):\n",
    "    \n",
    "    Minus = n1 - n2\n",
    "\n",
    "    print(Minus)"
   ]
  },
  {
   "cell_type": "code",
   "execution_count": 34,
   "id": "da267b09",
   "metadata": {},
   "outputs": [
    {
     "name": "stdout",
     "output_type": "stream",
     "text": [
      "1\n"
     ]
    }
   ],
   "source": [
    "Minusnum(5,4)"
   ]
  },
  {
   "cell_type": "code",
   "execution_count": 35,
   "id": "cc03a8b7",
   "metadata": {},
   "outputs": [
    {
     "name": "stdout",
     "output_type": "stream",
     "text": [
      "9\n"
     ]
    }
   ],
   "source": [
    "c = MinNum(Values)\n",
    "print(c)"
   ]
  },
  {
   "cell_type": "code",
   "execution_count": 36,
   "id": "53845e99",
   "metadata": {},
   "outputs": [],
   "source": [
    "def MinNum(Lst):\n",
    "    mn = Lst[0]\n",
    "    for i in Lst:\n",
    "        if i < mn:\n",
    "            mn = i\n",
    "    return mn"
   ]
  },
  {
   "cell_type": "code",
   "execution_count": 37,
   "id": "d827d988",
   "metadata": {},
   "outputs": [
    {
     "name": "stdout",
     "output_type": "stream",
     "text": [
      "9\n"
     ]
    }
   ],
   "source": [
    "c = MinNum(Values)\n",
    "print(c)"
   ]
  },
  {
   "cell_type": "code",
   "execution_count": 38,
   "id": "31235a83",
   "metadata": {},
   "outputs": [],
   "source": [
    "def Maxnum(Lst):\n",
    "    mx = Lst[0]\n",
    "    for i in Lst:\n",
    "        if i > mx:\n",
    "            mx = i\n",
    "    return mx"
   ]
  },
  {
   "cell_type": "code",
   "execution_count": 39,
   "id": "94219dd5",
   "metadata": {},
   "outputs": [
    {
     "name": "stdout",
     "output_type": "stream",
     "text": [
      "78\n"
     ]
    }
   ],
   "source": [
    "b = Maxnum(Values)\n",
    "print(b)"
   ]
  },
  {
   "cell_type": "code",
   "execution_count": 40,
   "id": "d5d37572",
   "metadata": {},
   "outputs": [],
   "source": [
    "def CountNum(Lst):\n",
    "    count = 0\n",
    "    for i in Lst:\n",
    "        count = count + 1\n",
    "    return count\n"
   ]
  },
  {
   "cell_type": "code",
   "execution_count": 41,
   "id": "2f61f914",
   "metadata": {},
   "outputs": [
    {
     "name": "stdout",
     "output_type": "stream",
     "text": [
      "6\n"
     ]
    }
   ],
   "source": [
    "f = CountNum(Values)\n",
    "print(f)"
   ]
  },
  {
   "cell_type": "code",
   "execution_count": 42,
   "id": "66daa610",
   "metadata": {},
   "outputs": [],
   "source": [
    "#CountNum & SumVals"
   ]
  },
  {
   "cell_type": "code",
   "execution_count": 43,
   "id": "7db75b41",
   "metadata": {},
   "outputs": [],
   "source": [
    "def AvgVals(Lst):\n",
    "    sm = 0\n",
    "    ct = 0\n",
    "    for i in Lst:\n",
    "        sm = sm + i\n",
    "        ct = ct + 1\n",
    "    avg = sm / ct\n",
    "    return avg"
   ]
  },
  {
   "cell_type": "code",
   "execution_count": 44,
   "id": "d0d1dc5b",
   "metadata": {},
   "outputs": [
    {
     "name": "stdout",
     "output_type": "stream",
     "text": [
      "41.666666666666664\n"
     ]
    }
   ],
   "source": [
    "h = AvgVals(Values)\n",
    "print(h)"
   ]
  },
  {
   "cell_type": "code",
   "execution_count": 45,
   "id": "d40a520e",
   "metadata": {},
   "outputs": [],
   "source": [
    "def Ctof(n):\n",
    "    n = (n *9/5)+32\n",
    "    return n"
   ]
  },
  {
   "cell_type": "code",
   "execution_count": 46,
   "id": "a578f7bc",
   "metadata": {},
   "outputs": [
    {
     "name": "stdout",
     "output_type": "stream",
     "text": [
      "208.4\n"
     ]
    }
   ],
   "source": [
    "a = Ctof(98)\n",
    "print(a)"
   ]
  },
  {
   "cell_type": "code",
   "execution_count": 47,
   "id": "10b1d414",
   "metadata": {},
   "outputs": [],
   "source": [
    "def ftoc(n):\n",
    "    n = (n-32) *5/9\n",
    "    return n"
   ]
  },
  {
   "cell_type": "code",
   "execution_count": 48,
   "id": "28136143",
   "metadata": {},
   "outputs": [
    {
     "name": "stdout",
     "output_type": "stream",
     "text": [
      "18.333333333333332\n"
     ]
    }
   ],
   "source": [
    "b = ftoc(65)\n",
    "print(b)"
   ]
  }
 ],
 "metadata": {
  "kernelspec": {
   "display_name": "Python 3 (ipykernel)",
   "language": "python",
   "name": "python3"
  },
  "language_info": {
   "codemirror_mode": {
    "name": "ipython",
    "version": 3
   },
   "file_extension": ".py",
   "mimetype": "text/x-python",
   "name": "python",
   "nbconvert_exporter": "python",
   "pygments_lexer": "ipython3",
   "version": "3.9.12"
  }
 },
 "nbformat": 4,
 "nbformat_minor": 5
}
