{
 "cells": [
  {
   "cell_type": "code",
   "execution_count": 1,
   "id": "30319c1c",
   "metadata": {},
   "outputs": [
    {
     "name": "stdout",
     "output_type": "stream",
     "text": [
      "Enter Mrks: 47\n",
      "F\n"
     ]
    }
   ],
   "source": [
    "Mrks = int(input('Enter Mrks: '))\n",
    "\n",
    "Grd = 'A' if Mrks >= 80 else 'B' if Mrks >= 70 else 'C' if Mrks >= 60 else 'F'\n",
    "\n",
    "print(Grd)"
   ]
  },
  {
   "cell_type": "code",
   "execution_count": 2,
   "id": "57c83992",
   "metadata": {},
   "outputs": [
    {
     "name": "stdout",
     "output_type": "stream",
     "text": [
      "Output List using for loop: [1, 2, 3, 4, 5]\n"
     ]
    }
   ],
   "source": [
    "# Ternary Operator for For Loop\n",
    "\n",
    "output_list = []\n",
    "for i in range(5):\n",
    "    output_list.append(i+1)\n",
    "\n",
    "print(\"Output List using for loop:\", output_list )"
   ]
  },
  {
   "cell_type": "code",
   "execution_count": 3,
   "id": "7ce26623",
   "metadata": {},
   "outputs": [
    {
     "name": "stdout",
     "output_type": "stream",
     "text": [
      "Output List using for loop: [1, 2, 3, 4, 5]\n"
     ]
    }
   ],
   "source": [
    "output_list = []\n",
    "for i in range(5): output_list.append(i+1)\n",
    "\n",
    "print(\"Output List using for loop:\", output_list )"
   ]
  },
  {
   "cell_type": "code",
   "execution_count": 5,
   "id": "653f579a",
   "metadata": {},
   "outputs": [
    {
     "name": "stdout",
     "output_type": "stream",
     "text": [
      "Output list using List Comprehension: [1, 2, 3, 4, 5]\n"
     ]
    }
   ],
   "source": [
    "# list Comprehesion\n",
    "\n",
    "output_list = [i+1 for i in range(5)]\n",
    "print(\"Output list using List Comprehension:\", output_list)"
   ]
  },
  {
   "cell_type": "code",
   "execution_count": 6,
   "id": "7d897443",
   "metadata": {},
   "outputs": [
    {
     "name": "stdout",
     "output_type": "stream",
     "text": [
      "Output list using List Comprehension: [1, 4, 9, 16, 25]\n"
     ]
    }
   ],
   "source": [
    "# list Comprehesion\n",
    "\n",
    "output_list = [(i+1)**2 for i in range(5)]\n",
    "print(\"Output list using List Comprehension:\", output_list)"
   ]
  },
  {
   "cell_type": "markdown",
   "id": "188e7dce",
   "metadata": {},
   "source": [
    "### Dictionary comprehensions:"
   ]
  },
  {
   "cell_type": "code",
   "execution_count": 7,
   "id": "3cb75fb3",
   "metadata": {},
   "outputs": [
    {
     "name": "stdout",
     "output_type": "stream",
     "text": [
      "Output list using Dictionary Comprehension: {1: 1, 2: 4, 3: 9, 4: 16, 5: 25}\n"
     ]
    }
   ],
   "source": [
    "output_list = {i:i**2 for i in range(1,6)}\n",
    "print(\"Output list using Dictionary Comprehension:\", output_list)"
   ]
  },
  {
   "cell_type": "markdown",
   "id": "17d39abc",
   "metadata": {},
   "source": [
    "## Sets"
   ]
  },
  {
   "cell_type": "markdown",
   "id": "b15d6db3",
   "metadata": {},
   "source": [
    "* Set is a collection of distinct objects forming a group. \n",
    "\n",
    "* Curly brackets are used while writing sets.\n",
    "\n",
    "* Values in sets are ordered and repeated values are not considered."
   ]
  },
  {
   "cell_type": "code",
   "execution_count": 8,
   "id": "e8930172",
   "metadata": {},
   "outputs": [],
   "source": [
    "A = {4,8,2,6,1}"
   ]
  },
  {
   "cell_type": "code",
   "execution_count": 9,
   "id": "e796ff82",
   "metadata": {},
   "outputs": [
    {
     "data": {
      "text/plain": [
       "{1, 2, 4, 6, 8}"
      ]
     },
     "execution_count": 9,
     "metadata": {},
     "output_type": "execute_result"
    }
   ],
   "source": [
    "A"
   ]
  },
  {
   "cell_type": "code",
   "execution_count": 10,
   "id": "281a7dc2",
   "metadata": {},
   "outputs": [],
   "source": [
    "C = {2,8,6,6,4}"
   ]
  },
  {
   "cell_type": "code",
   "execution_count": 11,
   "id": "e2267ab7",
   "metadata": {},
   "outputs": [
    {
     "data": {
      "text/plain": [
       "{2, 4, 6, 8}"
      ]
     },
     "execution_count": 11,
     "metadata": {},
     "output_type": "execute_result"
    }
   ],
   "source": [
    "C"
   ]
  },
  {
   "cell_type": "code",
   "execution_count": 12,
   "id": "91207b79",
   "metadata": {},
   "outputs": [
    {
     "data": {
      "text/plain": [
       "{1, 2, 3, 4, 5, 6}"
      ]
     },
     "execution_count": 12,
     "metadata": {},
     "output_type": "execute_result"
    }
   ],
   "source": [
    "A = {1,2,3,4}\n",
    "B = {3,4,5,6}\n",
    "A.union(B)"
   ]
  },
  {
   "cell_type": "code",
   "execution_count": 13,
   "id": "8a9f98a9",
   "metadata": {},
   "outputs": [
    {
     "name": "stdout",
     "output_type": "stream",
     "text": [
      "{1, 2, 3, 4, 5, 6}\n"
     ]
    }
   ],
   "source": [
    "# another way of union\n",
    "print(A|B)"
   ]
  },
  {
   "cell_type": "code",
   "execution_count": 14,
   "id": "a723d604",
   "metadata": {},
   "outputs": [
    {
     "data": {
      "text/plain": [
       "{3, 4}"
      ]
     },
     "execution_count": 14,
     "metadata": {},
     "output_type": "execute_result"
    }
   ],
   "source": [
    "A.intersection(B) # print(A & B)"
   ]
  },
  {
   "cell_type": "code",
   "execution_count": 15,
   "id": "2f4a28c4",
   "metadata": {},
   "outputs": [
    {
     "data": {
      "text/plain": [
       "{1, 2}"
      ]
     },
     "execution_count": 15,
     "metadata": {},
     "output_type": "execute_result"
    }
   ],
   "source": [
    "A.difference(B) # print (A-B)"
   ]
  },
  {
   "cell_type": "code",
   "execution_count": 16,
   "id": "48833fb4",
   "metadata": {},
   "outputs": [
    {
     "data": {
      "text/plain": [
       "{5, 6}"
      ]
     },
     "execution_count": 16,
     "metadata": {},
     "output_type": "execute_result"
    }
   ],
   "source": [
    "B.difference(A) # print (B-A)"
   ]
  },
  {
   "cell_type": "code",
   "execution_count": 17,
   "id": "778074ed",
   "metadata": {},
   "outputs": [
    {
     "name": "stdout",
     "output_type": "stream",
     "text": [
      "{5, 6}\n"
     ]
    }
   ],
   "source": [
    "print (B-A)"
   ]
  },
  {
   "cell_type": "code",
   "execution_count": 18,
   "id": "777a6de4",
   "metadata": {},
   "outputs": [
    {
     "name": "stdout",
     "output_type": "stream",
     "text": [
      "{1, 2, 5, 6}\n"
     ]
    }
   ],
   "source": [
    "# Symmetric Difference\n",
    "print (A ^ B) # (A-B) | (B-A)"
   ]
  },
  {
   "cell_type": "code",
   "execution_count": 19,
   "id": "96daea04",
   "metadata": {},
   "outputs": [
    {
     "data": {
      "text/plain": [
       "{3, 4}"
      ]
     },
     "execution_count": 19,
     "metadata": {},
     "output_type": "execute_result"
    }
   ],
   "source": [
    "B.remove(5)\n",
    "B.remove(6)\n",
    "B"
   ]
  },
  {
   "cell_type": "code",
   "execution_count": 20,
   "id": "962b2e72",
   "metadata": {},
   "outputs": [
    {
     "name": "stdout",
     "output_type": "stream",
     "text": [
      "{1, 2, 3, 4}\n",
      "{3, 4}\n"
     ]
    }
   ],
   "source": [
    "print(A)\n",
    "print(B)"
   ]
  },
  {
   "cell_type": "code",
   "execution_count": 21,
   "id": "3f358a7d",
   "metadata": {},
   "outputs": [
    {
     "data": {
      "text/plain": [
       "False"
      ]
     },
     "execution_count": 21,
     "metadata": {},
     "output_type": "execute_result"
    }
   ],
   "source": [
    "B.issuperset(A)"
   ]
  },
  {
   "cell_type": "code",
   "execution_count": 22,
   "id": "f0d90475",
   "metadata": {},
   "outputs": [
    {
     "data": {
      "text/plain": [
       "True"
      ]
     },
     "execution_count": 22,
     "metadata": {},
     "output_type": "execute_result"
    }
   ],
   "source": [
    "B.issubset(A)"
   ]
  },
  {
   "cell_type": "code",
   "execution_count": 23,
   "id": "2dbda8ad",
   "metadata": {},
   "outputs": [
    {
     "data": {
      "text/plain": [
       "True"
      ]
     },
     "execution_count": 23,
     "metadata": {},
     "output_type": "execute_result"
    }
   ],
   "source": [
    "A.issuperset(B)"
   ]
  },
  {
   "cell_type": "code",
   "execution_count": 24,
   "id": "50e6ebb7",
   "metadata": {},
   "outputs": [
    {
     "data": {
      "text/plain": [
       "False"
      ]
     },
     "execution_count": 24,
     "metadata": {},
     "output_type": "execute_result"
    }
   ],
   "source": [
    "A.issubset(B)"
   ]
  },
  {
   "cell_type": "code",
   "execution_count": 25,
   "id": "36fc16e1",
   "metadata": {},
   "outputs": [
    {
     "data": {
      "text/plain": [
       "{3, 4, 5}"
      ]
     },
     "execution_count": 25,
     "metadata": {},
     "output_type": "execute_result"
    }
   ],
   "source": [
    "B.add(5)\n",
    "B"
   ]
  },
  {
   "cell_type": "code",
   "execution_count": 26,
   "id": "8801aef1",
   "metadata": {},
   "outputs": [
    {
     "data": {
      "text/plain": [
       "False"
      ]
     },
     "execution_count": 26,
     "metadata": {},
     "output_type": "execute_result"
    }
   ],
   "source": [
    "B.issubset(A)"
   ]
  },
  {
   "cell_type": "code",
   "execution_count": 43,
   "id": "6795ed41",
   "metadata": {},
   "outputs": [
    {
     "data": {
      "text/plain": [
       "{1, 2, 3, 4, 'sa'}"
      ]
     },
     "execution_count": 43,
     "metadata": {},
     "output_type": "execute_result"
    }
   ],
   "source": [
    "C = {1,2}\n",
    "D = {1,2,3,4,4,'sa'}\n",
    "D"
   ]
  },
  {
   "cell_type": "code",
   "execution_count": 28,
   "id": "64b515e0",
   "metadata": {},
   "outputs": [],
   "source": [
    "A = {1,2,3,4}"
   ]
  },
  {
   "cell_type": "code",
   "execution_count": 29,
   "id": "bee02d65",
   "metadata": {},
   "outputs": [
    {
     "name": "stdout",
     "output_type": "stream",
     "text": [
      "False\n"
     ]
    }
   ],
   "source": [
    "print(A==B)"
   ]
  },
  {
   "cell_type": "code",
   "execution_count": 30,
   "id": "4f2e6914",
   "metadata": {},
   "outputs": [
    {
     "name": "stdout",
     "output_type": "stream",
     "text": [
      "True\n"
     ]
    }
   ],
   "source": [
    "print(A==D)"
   ]
  },
  {
   "cell_type": "code",
   "execution_count": 31,
   "id": "57b743b7",
   "metadata": {},
   "outputs": [
    {
     "name": "stdout",
     "output_type": "stream",
     "text": [
      "True\n"
     ]
    }
   ],
   "source": [
    "print (2 in C)"
   ]
  },
  {
   "cell_type": "code",
   "execution_count": 32,
   "id": "c2ff8d8a",
   "metadata": {},
   "outputs": [
    {
     "name": "stdout",
     "output_type": "stream",
     "text": [
      "False\n"
     ]
    }
   ],
   "source": [
    "print (2 not in C)"
   ]
  },
  {
   "cell_type": "code",
   "execution_count": 33,
   "id": "d94bff5d",
   "metadata": {},
   "outputs": [
    {
     "data": {
      "text/plain": [
       "[1, 2, 3, 4]"
      ]
     },
     "execution_count": 33,
     "metadata": {},
     "output_type": "execute_result"
    }
   ],
   "source": [
    "# Conversion Set to List\n",
    "\n",
    "A1 = list(A)\n",
    "A1"
   ]
  },
  {
   "cell_type": "code",
   "execution_count": 34,
   "id": "db9681cc",
   "metadata": {},
   "outputs": [
    {
     "data": {
      "text/plain": [
       "[10, 13, 10, 5, 6, 13, 2, 10, 5]"
      ]
     },
     "execution_count": 34,
     "metadata": {},
     "output_type": "execute_result"
    }
   ],
   "source": [
    "# Conversion Set to List\n",
    "Lst = [10,13,10,5,6,13,2,10,5]\n",
    "Lst"
   ]
  },
  {
   "cell_type": "code",
   "execution_count": 35,
   "id": "bd9a019c",
   "metadata": {},
   "outputs": [
    {
     "data": {
      "text/plain": [
       "{2, 5, 6, 10, 13}"
      ]
     },
     "execution_count": 35,
     "metadata": {},
     "output_type": "execute_result"
    }
   ],
   "source": [
    "S = set(Lst)\n",
    "S"
   ]
  },
  {
   "cell_type": "code",
   "execution_count": 36,
   "id": "7e03d2bf",
   "metadata": {},
   "outputs": [
    {
     "data": {
      "text/plain": [
       "{2, 5, 6, 7, 8, 10, 13}"
      ]
     },
     "execution_count": 36,
     "metadata": {},
     "output_type": "execute_result"
    }
   ],
   "source": [
    "S.update([7,8])\n",
    "S"
   ]
  },
  {
   "cell_type": "code",
   "execution_count": 37,
   "id": "69e5f41f",
   "metadata": {},
   "outputs": [
    {
     "name": "stdout",
     "output_type": "stream",
     "text": [
      "7\n"
     ]
    }
   ],
   "source": [
    "print(len(S))"
   ]
  },
  {
   "cell_type": "code",
   "execution_count": 38,
   "id": "92b7467a",
   "metadata": {},
   "outputs": [
    {
     "name": "stdout",
     "output_type": "stream",
     "text": [
      "2\n",
      "5\n",
      "6\n",
      "7\n",
      "8\n",
      "10\n",
      "13\n"
     ]
    }
   ],
   "source": [
    "for i in S:\n",
    "    print(i)"
   ]
  },
  {
   "cell_type": "code",
   "execution_count": 39,
   "id": "e373b13b",
   "metadata": {},
   "outputs": [
    {
     "data": {
      "text/plain": [
       "13"
      ]
     },
     "execution_count": 39,
     "metadata": {},
     "output_type": "execute_result"
    }
   ],
   "source": [
    "max(S)"
   ]
  },
  {
   "cell_type": "code",
   "execution_count": 40,
   "id": "ebe2ea23",
   "metadata": {},
   "outputs": [
    {
     "data": {
      "text/plain": [
       "51"
      ]
     },
     "execution_count": 40,
     "metadata": {},
     "output_type": "execute_result"
    }
   ],
   "source": [
    "sum(S)"
   ]
  },
  {
   "cell_type": "code",
   "execution_count": 41,
   "id": "94a65b0f",
   "metadata": {},
   "outputs": [
    {
     "data": {
      "text/plain": [
       "{'electronic', 'house', 'tree'}"
      ]
     },
     "execution_count": 41,
     "metadata": {},
     "output_type": "execute_result"
    }
   ],
   "source": [
    "# convert the list to set\n",
    "\n",
    "set(['tree','house','electronic'])"
   ]
  },
  {
   "cell_type": "markdown",
   "id": "0ee0f23f",
   "metadata": {},
   "source": [
    "# Tuples"
   ]
  },
  {
   "cell_type": "code",
   "execution_count": 44,
   "id": "5c5d24ac",
   "metadata": {},
   "outputs": [
    {
     "name": "stdout",
     "output_type": "stream",
     "text": [
      "(1, 2, 3)\n"
     ]
    }
   ],
   "source": [
    "t = (1,2,3)\n",
    "print(t)"
   ]
  },
  {
   "cell_type": "code",
   "execution_count": 45,
   "id": "2ba3abfb",
   "metadata": {},
   "outputs": [
    {
     "name": "stdout",
     "output_type": "stream",
     "text": [
      "(1, 2, 3)\n"
     ]
    }
   ],
   "source": [
    "# tuple is the default collection of python\n",
    "t1 = 1,2,3\n",
    "print(t1)"
   ]
  },
  {
   "cell_type": "code",
   "execution_count": 48,
   "id": "0c346ec7",
   "metadata": {},
   "outputs": [
    {
     "data": {
      "text/plain": [
       "('one', 2)"
      ]
     },
     "execution_count": 48,
     "metadata": {},
     "output_type": "execute_result"
    }
   ],
   "source": [
    "t = ('one', 2)\n",
    "t"
   ]
  },
  {
   "cell_type": "code",
   "execution_count": 49,
   "id": "8f41215b",
   "metadata": {},
   "outputs": [
    {
     "name": "stdout",
     "output_type": "stream",
     "text": [
      "0\n"
     ]
    }
   ],
   "source": [
    "print(t.index('one'))"
   ]
  },
  {
   "cell_type": "code",
   "execution_count": 50,
   "id": "68219209",
   "metadata": {},
   "outputs": [
    {
     "name": "stdout",
     "output_type": "stream",
     "text": [
      "1\n"
     ]
    }
   ],
   "source": [
    "print(t.count(2))"
   ]
  },
  {
   "cell_type": "code",
   "execution_count": 51,
   "id": "7775ddf3",
   "metadata": {},
   "outputs": [
    {
     "name": "stdout",
     "output_type": "stream",
     "text": [
      "2\n"
     ]
    }
   ],
   "source": [
    "t = ('one',2,'one')\n",
    "print(t.count('one'))"
   ]
  },
  {
   "cell_type": "code",
   "execution_count": 52,
   "id": "4b395ec0",
   "metadata": {},
   "outputs": [],
   "source": [
    "(a,b) = 4,7"
   ]
  },
  {
   "cell_type": "code",
   "execution_count": 53,
   "id": "d310f4b6",
   "metadata": {},
   "outputs": [],
   "source": [
    "(a, b) = \"4\",\"7\""
   ]
  },
  {
   "cell_type": "code",
   "execution_count": 57,
   "id": "01484b80",
   "metadata": {},
   "outputs": [],
   "source": [
    "(a,b) = \"4-7\".split(\"-\") #Split after -"
   ]
  },
  {
   "cell_type": "code",
   "execution_count": 58,
   "id": "51daa34c",
   "metadata": {},
   "outputs": [
    {
     "name": "stdout",
     "output_type": "stream",
     "text": [
      "4\n",
      "7\n"
     ]
    }
   ],
   "source": [
    "print(a)\n",
    "print(b)"
   ]
  },
  {
   "cell_type": "code",
   "execution_count": 60,
   "id": "b6b94bed",
   "metadata": {},
   "outputs": [],
   "source": [
    "def Calc(a,b):\n",
    "    sm = a+b\n",
    "    dif = a-b\n",
    "    m = a*b\n",
    "    div = a/b\n",
    "    p = a**b\n",
    "    return sm,dif,m,div,p"
   ]
  },
  {
   "cell_type": "code",
   "execution_count": 61,
   "id": "c1049808",
   "metadata": {},
   "outputs": [
    {
     "data": {
      "text/plain": [
       "(9, 3, 18, 2.0, 216)"
      ]
     },
     "execution_count": 61,
     "metadata": {},
     "output_type": "execute_result"
    }
   ],
   "source": [
    "Calc(6,3)"
   ]
  },
  {
   "cell_type": "code",
   "execution_count": 62,
   "id": "42088b2c",
   "metadata": {},
   "outputs": [],
   "source": [
    "y = Calc(6,3)"
   ]
  },
  {
   "cell_type": "code",
   "execution_count": 63,
   "id": "04891bc7",
   "metadata": {},
   "outputs": [
    {
     "name": "stdout",
     "output_type": "stream",
     "text": [
      "(9, 3, 18, 2.0, 216)\n"
     ]
    }
   ],
   "source": [
    "print(y)"
   ]
  },
  {
   "cell_type": "code",
   "execution_count": 64,
   "id": "ecf888fe",
   "metadata": {},
   "outputs": [
    {
     "data": {
      "text/plain": [
       "9"
      ]
     },
     "execution_count": 64,
     "metadata": {},
     "output_type": "execute_result"
    }
   ],
   "source": [
    "y[0]"
   ]
  },
  {
   "cell_type": "code",
   "execution_count": 65,
   "id": "a4e1d1d2",
   "metadata": {},
   "outputs": [],
   "source": [
    "s,df,m,dv,pw = Calc(6,3)"
   ]
  },
  {
   "cell_type": "code",
   "execution_count": 66,
   "id": "83802071",
   "metadata": {},
   "outputs": [
    {
     "name": "stdout",
     "output_type": "stream",
     "text": [
      "9\n",
      "3\n",
      "18\n",
      "2.0\n",
      "216\n"
     ]
    }
   ],
   "source": [
    "print(s)\n",
    "print(df)\n",
    "print(m)\n",
    "print(dv)\n",
    "print(pw)"
   ]
  },
  {
   "cell_type": "code",
   "execution_count": 67,
   "id": "ec44c067",
   "metadata": {},
   "outputs": [
    {
     "name": "stdout",
     "output_type": "stream",
     "text": [
      "2.0\n"
     ]
    }
   ],
   "source": [
    "print(Calc(6,3)[3])"
   ]
  },
  {
   "cell_type": "code",
   "execution_count": 68,
   "id": "87bc1d5f",
   "metadata": {},
   "outputs": [
    {
     "name": "stdout",
     "output_type": "stream",
     "text": [
      "6\n"
     ]
    }
   ],
   "source": [
    "print(sum(t1))"
   ]
  }
 ],
 "metadata": {
  "kernelspec": {
   "display_name": "Python 3 (ipykernel)",
   "language": "python",
   "name": "python3"
  },
  "language_info": {
   "codemirror_mode": {
    "name": "ipython",
    "version": 3
   },
   "file_extension": ".py",
   "mimetype": "text/x-python",
   "name": "python",
   "nbconvert_exporter": "python",
   "pygments_lexer": "ipython3",
   "version": "3.9.12"
  }
 },
 "nbformat": 4,
 "nbformat_minor": 5
}
