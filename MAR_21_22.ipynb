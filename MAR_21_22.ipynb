{
 "cells": [
  {
   "cell_type": "code",
   "execution_count": 2,
   "id": "dffdaa34",
   "metadata": {},
   "outputs": [
    {
     "name": "stdout",
     "output_type": "stream",
     "text": [
      "10\n"
     ]
    }
   ],
   "source": [
    "a = 9\n",
    "a = a + 1\n",
    "print(a)"
   ]
  },
  {
   "cell_type": "code",
   "execution_count": 3,
   "id": "27bae84e",
   "metadata": {},
   "outputs": [
    {
     "name": "stdout",
     "output_type": "stream",
     "text": [
      "11\n"
     ]
    }
   ],
   "source": [
    "a +=1\n",
    "print(a)"
   ]
  },
  {
   "cell_type": "code",
   "execution_count": 4,
   "id": "cd640bef",
   "metadata": {},
   "outputs": [
    {
     "name": "stdout",
     "output_type": "stream",
     "text": [
      "10\n"
     ]
    }
   ],
   "source": [
    "a -=1\n",
    "print(a)"
   ]
  },
  {
   "cell_type": "code",
   "execution_count": 5,
   "id": "dd333dc3",
   "metadata": {},
   "outputs": [
    {
     "name": "stdout",
     "output_type": "stream",
     "text": [
      "Hello World New\n"
     ]
    }
   ],
   "source": [
    "msg = \"Hello World \"\n",
    "msg += \"New\"\n",
    "print(msg)"
   ]
  },
  {
   "cell_type": "code",
   "execution_count": 7,
   "id": "b753a6f0",
   "metadata": {},
   "outputs": [
    {
     "name": "stdout",
     "output_type": "stream",
     "text": [
      "Marks are greater than 59: Passed\n"
     ]
    }
   ],
   "source": [
    "Marks = 70\n",
    "\n",
    "if Marks > 59:\n",
    "    print (\"Marks are greater than 59:\", \"Passed\")\n",
    "else:\n",
    "    print (\"Result: Failed\")"
   ]
  },
  {
   "cell_type": "code",
   "execution_count": 9,
   "id": "1044301a",
   "metadata": {},
   "outputs": [
    {
     "name": "stdout",
     "output_type": "stream",
     "text": [
      "Enter Marks: 49\n",
      "Result: Failed\n"
     ]
    }
   ],
   "source": [
    "Marks = int(input(\"Enter Marks: \"))\n",
    "\n",
    "if Marks > 59:\n",
    "    print (\"Mark are greater than 59:\", \"Passed\")\n",
    "else:\n",
    "    print (\"Result: Failed\")"
   ]
  },
  {
   "cell_type": "code",
   "execution_count": 10,
   "id": "4321cb95",
   "metadata": {},
   "outputs": [
    {
     "name": "stdout",
     "output_type": "stream",
     "text": [
      "Enter Marks: 60\n",
      "Grade C\n"
     ]
    }
   ],
   "source": [
    "Marks = int(input(\"Enter Marks: \"))\n",
    "\n",
    "if Marks > 69:\n",
    "    print (\"Grade B\")\n",
    "elif Marks > 59:\n",
    "    print (\"Grade C\")\n",
    "else:\n",
    "    print (\"Result: Failed\")"
   ]
  },
  {
   "cell_type": "code",
   "execution_count": 11,
   "id": "531bf472",
   "metadata": {},
   "outputs": [
    {
     "name": "stdout",
     "output_type": "stream",
     "text": [
      "Enter Marks: 70\n",
      "Grade B\n"
     ]
    }
   ],
   "source": [
    "Marks = int(input(\"Enter Marks: \"))\n",
    "\n",
    "if Marks < 60:\n",
    "    print (\"Failed\")\n",
    "elif Marks < 70:\n",
    "    print (\"Grade C\")\n",
    "else:\n",
    "    print (\"Grade B\")"
   ]
  },
  {
   "cell_type": "code",
   "execution_count": 12,
   "id": "300e59f9",
   "metadata": {},
   "outputs": [
    {
     "name": "stdout",
     "output_type": "stream",
     "text": [
      "Enter Marks: 54\n",
      "Grade B\n"
     ]
    }
   ],
   "source": [
    "Marks = int(input(\"Enter Marks: \"))\n",
    "\n",
    "if Marks < 40:\n",
    "    print (\"Failed\")\n",
    "elif Marks < 50:\n",
    "    print (\"Grade C\")\n",
    "elif Marks < 60:\n",
    "    print (\"Grade B\")\n",
    "elif Marks < 70:\n",
    "    print (\"Grade A\")\n",
    "else:\n",
    "    print (\"Grade A+\")"
   ]
  },
  {
   "cell_type": "code",
   "execution_count": 13,
   "id": "b48b4ea8",
   "metadata": {},
   "outputs": [
    {
     "name": "stdout",
     "output_type": "stream",
     "text": [
      "Enter Marks: 82\n",
      "Grade A\n"
     ]
    }
   ],
   "source": [
    "Marks = int(input(\"Enter Marks: \"))\n",
    "\n",
    "if Marks <=59 and Marks >= 0:\n",
    "    print (\"Failed\")\n",
    "elif Marks <=69 and Marks >= 60:\n",
    "    print (\"Grade C\")\n",
    "elif Marks <=79 and Marks >= 70:\n",
    "    print (\"Grade B\")\n",
    "elif Marks <=89 and Marks >= 80:\n",
    "    print (\"Grade A\")\n",
    "else:\n",
    "    print (\"Grade A+\")"
   ]
  },
  {
   "cell_type": "code",
   "execution_count": 43,
   "id": "adc5d923",
   "metadata": {},
   "outputs": [
    {
     "name": "stdout",
     "output_type": "stream",
     "text": [
      "Failed\n"
     ]
    }
   ],
   "source": [
    "Marks = 49\n",
    "\n",
    "if Marks == 50:\n",
    "    print (\"Passed\")\n",
    "else:\n",
    "    print (\"Failed\")"
   ]
  },
  {
   "cell_type": "code",
   "execution_count": 45,
   "id": "453f40b1",
   "metadata": {},
   "outputs": [
    {
     "name": "stdout",
     "output_type": "stream",
     "text": [
      "Big Data Analytics\n"
     ]
    }
   ],
   "source": [
    "Name = \"Big Data Analytics\"\n",
    "\n",
    "print(Name)"
   ]
  },
  {
   "cell_type": "code",
   "execution_count": 49,
   "id": "e1f598c4",
   "metadata": {},
   "outputs": [
    {
     "name": "stdout",
     "output_type": "stream",
     "text": [
      "A\n"
     ]
    }
   ],
   "source": [
    "print(Name[-9])"
   ]
  },
  {
   "cell_type": "code",
   "execution_count": 50,
   "id": "6d0100f3",
   "metadata": {},
   "outputs": [
    {
     "data": {
      "text/plain": [
       "'Big'"
      ]
     },
     "execution_count": 50,
     "metadata": {},
     "output_type": "execute_result"
    }
   ],
   "source": [
    "Name[0:3:1]"
   ]
  }
 ],
 "metadata": {
  "kernelspec": {
   "display_name": "Python 3 (ipykernel)",
   "language": "python",
   "name": "python3"
  },
  "language_info": {
   "codemirror_mode": {
    "name": "ipython",
    "version": 3
   },
   "file_extension": ".py",
   "mimetype": "text/x-python",
   "name": "python",
   "nbconvert_exporter": "python",
   "pygments_lexer": "ipython3",
   "version": "3.9.12"
  }
 },
 "nbformat": 4,
 "nbformat_minor": 5
}
