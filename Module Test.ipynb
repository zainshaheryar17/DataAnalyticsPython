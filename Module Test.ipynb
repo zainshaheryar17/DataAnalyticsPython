{
 "cells": [
  {
   "cell_type": "code",
   "execution_count": 1,
   "id": "a8bf4147",
   "metadata": {},
   "outputs": [],
   "source": [
    "import mylib as lib"
   ]
  },
  {
   "cell_type": "code",
   "execution_count": 2,
   "id": "566f69df",
   "metadata": {},
   "outputs": [
    {
     "data": {
      "text/plain": [
       "['AvgVals',\n",
       " 'Cal2Num',\n",
       " 'CountNum',\n",
       " 'Ctof',\n",
       " 'Div',\n",
       " 'Grade',\n",
       " 'LrTri',\n",
       " 'Maxnum',\n",
       " 'MinNum',\n",
       " 'SumVals',\n",
       " 'Table',\n",
       " '__builtins__',\n",
       " '__cached__',\n",
       " '__doc__',\n",
       " '__file__',\n",
       " '__loader__',\n",
       " '__name__',\n",
       " '__package__',\n",
       " '__spec__',\n",
       " 'ftoc',\n",
       " 'getIdx',\n",
       " 'isEvn',\n",
       " 'multiply']"
      ]
     },
     "execution_count": 2,
     "metadata": {},
     "output_type": "execute_result"
    }
   ],
   "source": [
    "dir(lib)"
   ]
  },
  {
   "cell_type": "code",
   "execution_count": 4,
   "id": "c397dd8a",
   "metadata": {},
   "outputs": [],
   "source": [
    "mylist = [5,3,7,9,23,45,8]"
   ]
  },
  {
   "cell_type": "code",
   "execution_count": 5,
   "id": "62e221cb",
   "metadata": {},
   "outputs": [
    {
     "name": "stdout",
     "output_type": "stream",
     "text": [
      "3\n"
     ]
    }
   ],
   "source": [
    "print(lib.MinNum(mylist))"
   ]
  },
  {
   "cell_type": "code",
   "execution_count": 6,
   "id": "595c4ab1",
   "metadata": {},
   "outputs": [
    {
     "name": "stdout",
     "output_type": "stream",
     "text": [
      "3\n"
     ]
    }
   ],
   "source": [
    "r = lib.MinNum(mylist)\n",
    "print(r)"
   ]
  },
  {
   "cell_type": "code",
   "execution_count": 7,
   "id": "0967af2f",
   "metadata": {},
   "outputs": [
    {
     "name": "stdout",
     "output_type": "stream",
     "text": [
      "104.0\n"
     ]
    }
   ],
   "source": [
    "r = lib.Ctof(40)\n",
    "print(r)"
   ]
  },
  {
   "cell_type": "code",
   "execution_count": 3,
   "id": "dcac551e",
   "metadata": {},
   "outputs": [],
   "source": [
    "a = lib.multiply(6,2)"
   ]
  },
  {
   "cell_type": "code",
   "execution_count": 4,
   "id": "c3b38a48",
   "metadata": {},
   "outputs": [
    {
     "name": "stdout",
     "output_type": "stream",
     "text": [
      "12\n"
     ]
    }
   ],
   "source": [
    "print(a)"
   ]
  },
  {
   "cell_type": "code",
   "execution_count": null,
   "id": "b9219c8f",
   "metadata": {},
   "outputs": [],
   "source": []
  }
 ],
 "metadata": {
  "kernelspec": {
   "display_name": "Python 3 (ipykernel)",
   "language": "python",
   "name": "python3"
  },
  "language_info": {
   "codemirror_mode": {
    "name": "ipython",
    "version": 3
   },
   "file_extension": ".py",
   "mimetype": "text/x-python",
   "name": "python",
   "nbconvert_exporter": "python",
   "pygments_lexer": "ipython3",
   "version": "3.9.7"
  }
 },
 "nbformat": 4,
 "nbformat_minor": 5
}
