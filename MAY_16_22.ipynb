{
 "cells": [
  {
   "cell_type": "code",
   "execution_count": 1,
   "id": "4c6c2fa2",
   "metadata": {},
   "outputs": [],
   "source": [
    "def add10(a):\n",
    "    return a + 10"
   ]
  },
  {
   "cell_type": "code",
   "execution_count": 2,
   "id": "f753644c",
   "metadata": {},
   "outputs": [
    {
     "name": "stdout",
     "output_type": "stream",
     "text": [
      "15\n"
     ]
    }
   ],
   "source": [
    "x = add10(5)\n",
    "print(x)"
   ]
  },
  {
   "cell_type": "markdown",
   "id": "31816eeb",
   "metadata": {},
   "source": [
    "#### lambda INPUT : OUTPUT"
   ]
  },
  {
   "cell_type": "code",
   "execution_count": 3,
   "id": "4de80a27",
   "metadata": {},
   "outputs": [],
   "source": [
    "x = lambda a : a+10"
   ]
  },
  {
   "cell_type": "code",
   "execution_count": 4,
   "id": "71475563",
   "metadata": {},
   "outputs": [
    {
     "name": "stdout",
     "output_type": "stream",
     "text": [
      "18\n"
     ]
    }
   ],
   "source": [
    "print(x(8))"
   ]
  },
  {
   "cell_type": "code",
   "execution_count": 5,
   "id": "cc39551e",
   "metadata": {},
   "outputs": [],
   "source": [
    "y = lambda a,b : a+b "
   ]
  },
  {
   "cell_type": "code",
   "execution_count": 6,
   "id": "af5b83f4",
   "metadata": {},
   "outputs": [
    {
     "name": "stdout",
     "output_type": "stream",
     "text": [
      "9\n"
     ]
    }
   ],
   "source": [
    "print(y(4,5))"
   ]
  },
  {
   "cell_type": "code",
   "execution_count": 10,
   "id": "3098dec6",
   "metadata": {},
   "outputs": [],
   "source": [
    "multiply=lambda a,b:a*b\n",
    "x = multiply(5,6)"
   ]
  },
  {
   "cell_type": "code",
   "execution_count": 11,
   "id": "2da05df8",
   "metadata": {},
   "outputs": [
    {
     "name": "stdout",
     "output_type": "stream",
     "text": [
      "30\n"
     ]
    }
   ],
   "source": [
    "print(x)"
   ]
  },
  {
   "cell_type": "code",
   "execution_count": 12,
   "id": "837ff15c",
   "metadata": {},
   "outputs": [],
   "source": [
    "def even_fn(a):\n",
    "    if a % 2 ==0:\n",
    "        return True\n",
    "    else:\n",
    "        return False"
   ]
  },
  {
   "cell_type": "code",
   "execution_count": 13,
   "id": "b975805f",
   "metadata": {},
   "outputs": [
    {
     "name": "stdout",
     "output_type": "stream",
     "text": [
      "True\n"
     ]
    }
   ],
   "source": [
    "print(even_fn(4))"
   ]
  },
  {
   "cell_type": "code",
   "execution_count": 14,
   "id": "e8848bed",
   "metadata": {},
   "outputs": [],
   "source": [
    "ListVals = [1,3,2,5,20]"
   ]
  },
  {
   "cell_type": "code",
   "execution_count": 15,
   "id": "fd16808b",
   "metadata": {},
   "outputs": [],
   "source": [
    "r = []\n",
    "for i in ListVals:\n",
    "    if even_fn(i) == True:\n",
    "        r.append(i)"
   ]
  },
  {
   "cell_type": "code",
   "execution_count": 16,
   "id": "866253d9",
   "metadata": {},
   "outputs": [
    {
     "name": "stdout",
     "output_type": "stream",
     "text": [
      "[2, 20]\n"
     ]
    }
   ],
   "source": [
    "print(r)"
   ]
  },
  {
   "cell_type": "code",
   "execution_count": 17,
   "id": "6df56c81",
   "metadata": {},
   "outputs": [],
   "source": [
    "EvnLst = []\n",
    "OddLst = []\n",
    "for i in ListVals:\n",
    "    if even_fn(i) == True:\n",
    "        EvnLst.append(i)\n",
    "    else:\n",
    "        OddLst.append(i)"
   ]
  },
  {
   "cell_type": "code",
   "execution_count": 18,
   "id": "936efb2f",
   "metadata": {},
   "outputs": [
    {
     "name": "stdout",
     "output_type": "stream",
     "text": [
      "[2, 20]\n",
      "[1, 3, 5]\n"
     ]
    }
   ],
   "source": [
    "print(EvnLst)\n",
    "print(OddLst)"
   ]
  },
  {
   "cell_type": "code",
   "execution_count": 20,
   "id": "0e98fe0d",
   "metadata": {},
   "outputs": [],
   "source": [
    "r = list(filter(even_fn, ListVals)) #filter(function,list)"
   ]
  },
  {
   "cell_type": "code",
   "execution_count": 21,
   "id": "0e934474",
   "metadata": {},
   "outputs": [
    {
     "name": "stdout",
     "output_type": "stream",
     "text": [
      "[2, 20]\n"
     ]
    }
   ],
   "source": [
    "print(r)"
   ]
  },
  {
   "cell_type": "code",
   "execution_count": 24,
   "id": "b009e792",
   "metadata": {},
   "outputs": [],
   "source": [
    "r = list(filter(lambda x : x % 2 == 0, ListVals))"
   ]
  },
  {
   "cell_type": "code",
   "execution_count": 25,
   "id": "6ef80407",
   "metadata": {},
   "outputs": [
    {
     "name": "stdout",
     "output_type": "stream",
     "text": [
      "[2, 20]\n"
     ]
    }
   ],
   "source": [
    "print(r)"
   ]
  },
  {
   "cell_type": "code",
   "execution_count": 26,
   "id": "b5aa6948",
   "metadata": {},
   "outputs": [],
   "source": [
    "e = list(filter(lambda x : x % 2 != 0, ListVals))"
   ]
  },
  {
   "cell_type": "code",
   "execution_count": 27,
   "id": "25f2be3a",
   "metadata": {},
   "outputs": [
    {
     "name": "stdout",
     "output_type": "stream",
     "text": [
      "[1, 3, 5]\n"
     ]
    }
   ],
   "source": [
    "print(e)"
   ]
  },
  {
   "cell_type": "code",
   "execution_count": 29,
   "id": "1a0b4087",
   "metadata": {},
   "outputs": [],
   "source": [
    "List4 = list(map(lambda x : x ** 2, ListVals)) #map(function,List)"
   ]
  },
  {
   "cell_type": "code",
   "execution_count": 30,
   "id": "841b7fea",
   "metadata": {},
   "outputs": [
    {
     "name": "stdout",
     "output_type": "stream",
     "text": [
      "[1, 3, 2, 5, 20]\n",
      "[1, 9, 4, 25, 400]\n"
     ]
    }
   ],
   "source": [
    "print(ListVals)\n",
    "print(List4)"
   ]
  },
  {
   "cell_type": "code",
   "execution_count": 31,
   "id": "e5364913",
   "metadata": {},
   "outputs": [],
   "source": [
    "def myfunc():\n",
    "    return lambda a,b : a*b"
   ]
  },
  {
   "cell_type": "code",
   "execution_count": 32,
   "id": "081ae45f",
   "metadata": {},
   "outputs": [
    {
     "name": "stdout",
     "output_type": "stream",
     "text": [
      "6\n"
     ]
    }
   ],
   "source": [
    "multiply = myfunc()\n",
    "print(multiply(2,3))"
   ]
  },
  {
   "cell_type": "code",
   "execution_count": 33,
   "id": "a7f1e084",
   "metadata": {},
   "outputs": [
    {
     "name": "stdout",
     "output_type": "stream",
     "text": [
      "Enter a Number: 3\n",
      "Odd\n"
     ]
    }
   ],
   "source": [
    "n = int(input('Enter a Number: '))\n",
    "\n",
    "if n%2 ==0: output = 'Even'\n",
    "else: output = 'Odd'\n",
    "\n",
    "print(output)"
   ]
  },
  {
   "cell_type": "code",
   "execution_count": 34,
   "id": "6978480e",
   "metadata": {},
   "outputs": [
    {
     "name": "stdout",
     "output_type": "stream",
     "text": [
      "Enter a Number: 2\n",
      "Even\n"
     ]
    }
   ],
   "source": [
    "# Ternary Operator\n",
    "\n",
    "n = int(input('Enter a Number: '))\n",
    "\n",
    "output = 'Even' if n % 2 == 0 else 'Odd'\n",
    "\n",
    "print(output)"
   ]
  },
  {
   "cell_type": "code",
   "execution_count": 35,
   "id": "969144e9",
   "metadata": {},
   "outputs": [
    {
     "name": "stdout",
     "output_type": "stream",
     "text": [
      "Enter a Number: 0\n",
      "Even\n"
     ]
    }
   ],
   "source": [
    "# Ternary Operator\n",
    "\n",
    "n = int(input('Enter a Number: '))\n",
    "\n",
    "output = 'Even' if n % 2 == 0 else 'Odd' if n%2 == 1 else None\n",
    "\n",
    "print(output)"
   ]
  },
  {
   "cell_type": "code",
   "execution_count": 36,
   "id": "941b03e4",
   "metadata": {},
   "outputs": [
    {
     "name": "stdout",
     "output_type": "stream",
     "text": [
      "B\n"
     ]
    }
   ],
   "source": [
    "Mrks = 78\n",
    "Grd = \"\"\n",
    "if Mrks >= 90:\n",
    "    Grd = \"A+\"\n",
    "elif Mrks >=80:\n",
    "    Grd = \"A\"\n",
    "elif Mrks >=70:\n",
    "    Grd = \"B\"\n",
    "elif Mrks >=60:\n",
    "    Grd = \"c\"\n",
    "elif Mrks >=0:\n",
    "    Grd = \"F\"\n",
    "else:\n",
    "    Grd = \"?\"\n",
    "\n",
    "print(Grd)    \n",
    "    "
   ]
  },
  {
   "cell_type": "code",
   "execution_count": 37,
   "id": "35540644",
   "metadata": {},
   "outputs": [
    {
     "name": "stdout",
     "output_type": "stream",
     "text": [
      "Enter Mrks: 76\n",
      "B\n"
     ]
    }
   ],
   "source": [
    "Mrks = int(input('Enter Mrks: '))\n",
    "#Grd = \"\"\n",
    "Grd = 'A' if Mrks >= 80 else 'B' if Mrks >= 70 else 'C' if Mrks >= 60 else 'F'\n",
    "\n",
    "print(Grd)"
   ]
  }
 ],
 "metadata": {
  "kernelspec": {
   "display_name": "Python 3 (ipykernel)",
   "language": "python",
   "name": "python3"
  },
  "language_info": {
   "codemirror_mode": {
    "name": "ipython",
    "version": 3
   },
   "file_extension": ".py",
   "mimetype": "text/x-python",
   "name": "python",
   "nbconvert_exporter": "python",
   "pygments_lexer": "ipython3",
   "version": "3.9.12"
  }
 },
 "nbformat": 4,
 "nbformat_minor": 5
}
