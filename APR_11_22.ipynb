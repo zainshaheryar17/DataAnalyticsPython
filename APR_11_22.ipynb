{
 "cells": [
  {
   "cell_type": "code",
   "execution_count": 1,
   "id": "e8a3d2df",
   "metadata": {},
   "outputs": [
    {
     "name": "stdout",
     "output_type": "stream",
     "text": [
      "{'Empno': 123, 'Name': 'Smith', 'Age': 23}\n"
     ]
    }
   ],
   "source": [
    "D = {'Empno':123, 'Name': 'Smith','Age': 23};\n",
    "print(D)"
   ]
  },
  {
   "cell_type": "code",
   "execution_count": 3,
   "id": "5f076196",
   "metadata": {},
   "outputs": [
    {
     "data": {
      "text/plain": [
       "'Smith'"
      ]
     },
     "execution_count": 3,
     "metadata": {},
     "output_type": "execute_result"
    }
   ],
   "source": [
    "D['Name']"
   ]
  },
  {
   "cell_type": "code",
   "execution_count": 4,
   "id": "f2aaf865",
   "metadata": {},
   "outputs": [
    {
     "name": "stdout",
     "output_type": "stream",
     "text": [
      "Smith\n"
     ]
    }
   ],
   "source": [
    "print(D.get('Name'))"
   ]
  },
  {
   "cell_type": "code",
   "execution_count": 5,
   "id": "91963b3e",
   "metadata": {},
   "outputs": [
    {
     "name": "stdout",
     "output_type": "stream",
     "text": [
      "dict_keys(['Empno', 'Name', 'Age'])\n"
     ]
    }
   ],
   "source": [
    "print(D.keys());"
   ]
  },
  {
   "cell_type": "code",
   "execution_count": 6,
   "id": "0bc67c6d",
   "metadata": {},
   "outputs": [
    {
     "name": "stdout",
     "output_type": "stream",
     "text": [
      "dict_values([123, 'Smith', 23])\n"
     ]
    }
   ],
   "source": [
    "print(D.values());"
   ]
  },
  {
   "cell_type": "code",
   "execution_count": 7,
   "id": "0890ccca",
   "metadata": {},
   "outputs": [
    {
     "name": "stdout",
     "output_type": "stream",
     "text": [
      "{'Empno': 123, 'Name': 'Smith', 'Age': 23, 'ContactNo': 12345}\n"
     ]
    }
   ],
   "source": [
    "D['ContactNo'] = 12345;\n",
    "print(D)"
   ]
  },
  {
   "cell_type": "code",
   "execution_count": 8,
   "id": "be5ff816",
   "metadata": {},
   "outputs": [
    {
     "name": "stdout",
     "output_type": "stream",
     "text": [
      "{'Empno': 123, 'Name': 'Smith', 'Age': 25, 'ContactNo': 12345}\n"
     ]
    }
   ],
   "source": [
    "D['Age'] = 25\n",
    "print(D)"
   ]
  },
  {
   "cell_type": "code",
   "execution_count": 9,
   "id": "df173325",
   "metadata": {},
   "outputs": [
    {
     "name": "stdout",
     "output_type": "stream",
     "text": [
      "{'Empno': 123, 'Name': 'Smith', 'Age': 25}\n"
     ]
    }
   ],
   "source": [
    "del(D['ContactNo']);\n",
    "print(D)\n"
   ]
  },
  {
   "cell_type": "code",
   "execution_count": 10,
   "id": "a3065b21",
   "metadata": {},
   "outputs": [
    {
     "name": "stdout",
     "output_type": "stream",
     "text": [
      "True\n"
     ]
    }
   ],
   "source": [
    "print('Name' in D);"
   ]
  },
  {
   "cell_type": "code",
   "execution_count": 11,
   "id": "01b51273",
   "metadata": {},
   "outputs": [
    {
     "name": "stdout",
     "output_type": "stream",
     "text": [
      "False\n"
     ]
    }
   ],
   "source": [
    "print('ContactNo' in D);"
   ]
  },
  {
   "cell_type": "code",
   "execution_count": 12,
   "id": "be594186",
   "metadata": {},
   "outputs": [
    {
     "name": "stdout",
     "output_type": "stream",
     "text": [
      "{'Empno': 123, 'Name': 'Smith'}\n"
     ]
    }
   ],
   "source": [
    "D.popitem();\n",
    "print(D)"
   ]
  },
  {
   "cell_type": "code",
   "execution_count": 15,
   "id": "171da77b",
   "metadata": {},
   "outputs": [
    {
     "name": "stdout",
     "output_type": "stream",
     "text": [
      "{'Age': 28, 'ContactNo': 12345}\n"
     ]
    }
   ],
   "source": [
    "D1 = {'Age': 28, 'ContactNo' : 12345};\n",
    "print(D1)"
   ]
  },
  {
   "cell_type": "code",
   "execution_count": 16,
   "id": "ecc0bf9d",
   "metadata": {},
   "outputs": [
    {
     "name": "stdout",
     "output_type": "stream",
     "text": [
      "{'Age': 28}\n"
     ]
    }
   ],
   "source": [
    "D1.pop('ContactNo');\n",
    "print(D1)"
   ]
  },
  {
   "cell_type": "code",
   "execution_count": 18,
   "id": "216de4b9",
   "metadata": {},
   "outputs": [
    {
     "name": "stdout",
     "output_type": "stream",
     "text": [
      "{'Empno': 123, 'Name': 'Smith', 'Age': 28}\n"
     ]
    }
   ],
   "source": [
    "# same operation as extend. It joins two Dictionaries\n",
    "\n",
    "D.update(D1);\n",
    "print(D)\n"
   ]
  },
  {
   "cell_type": "code",
   "execution_count": 19,
   "id": "3c6fdbbe",
   "metadata": {},
   "outputs": [
    {
     "data": {
      "text/plain": [
       "[('Empno', 123), ('Name', 'Smith'), ('Age', 28)]"
      ]
     },
     "execution_count": 19,
     "metadata": {},
     "output_type": "execute_result"
    }
   ],
   "source": [
    "DLst = list(D.items())\n",
    "DLst"
   ]
  },
  {
   "cell_type": "markdown",
   "id": "cd6df56a",
   "metadata": {},
   "source": [
    "   C    0       1\n",
    "R\n",
    "0    ('Empno', 123), \n",
    "1    ('Name', 'Smith'), \n",
    "2    ('Age', 28)]\n"
   ]
  },
  {
   "cell_type": "code",
   "execution_count": 21,
   "id": "6b88f5f5",
   "metadata": {},
   "outputs": [
    {
     "data": {
      "text/plain": [
       "'Empno'"
      ]
     },
     "execution_count": 21,
     "metadata": {},
     "output_type": "execute_result"
    }
   ],
   "source": [
    "DLst[0][0]"
   ]
  },
  {
   "cell_type": "code",
   "execution_count": 22,
   "id": "3a420aea",
   "metadata": {},
   "outputs": [
    {
     "data": {
      "text/plain": [
       "123"
      ]
     },
     "execution_count": 22,
     "metadata": {},
     "output_type": "execute_result"
    }
   ],
   "source": [
    "DLst[0][1]"
   ]
  },
  {
   "cell_type": "code",
   "execution_count": null,
   "id": "21acd64c",
   "metadata": {},
   "outputs": [],
   "source": []
  },
  {
   "cell_type": "code",
   "execution_count": null,
   "id": "9eb20722",
   "metadata": {},
   "outputs": [],
   "source": []
  },
  {
   "cell_type": "code",
   "execution_count": null,
   "id": "4bfb8889",
   "metadata": {},
   "outputs": [],
   "source": []
  },
  {
   "cell_type": "code",
   "execution_count": null,
   "id": "28e7b042",
   "metadata": {},
   "outputs": [],
   "source": []
  }
 ],
 "metadata": {
  "kernelspec": {
   "display_name": "Python 3 (ipykernel)",
   "language": "python",
   "name": "python3"
  },
  "language_info": {
   "codemirror_mode": {
    "name": "ipython",
    "version": 3
   },
   "file_extension": ".py",
   "mimetype": "text/x-python",
   "name": "python",
   "nbconvert_exporter": "python",
   "pygments_lexer": "ipython3",
   "version": "3.9.12"
  }
 },
 "nbformat": 4,
 "nbformat_minor": 5
}
