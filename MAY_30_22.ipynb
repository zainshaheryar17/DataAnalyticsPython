{
 "cells": [
  {
   "cell_type": "code",
   "execution_count": 1,
   "id": "e3e7caed",
   "metadata": {},
   "outputs": [],
   "source": [
    "import datetime"
   ]
  },
  {
   "cell_type": "code",
   "execution_count": 10,
   "id": "d4688d62",
   "metadata": {},
   "outputs": [
    {
     "data": {
      "text/plain": [
       "['MAXYEAR',\n",
       " 'MINYEAR',\n",
       " '__all__',\n",
       " '__builtins__',\n",
       " '__cached__',\n",
       " '__doc__',\n",
       " '__file__',\n",
       " '__loader__',\n",
       " '__name__',\n",
       " '__package__',\n",
       " '__spec__',\n",
       " 'date',\n",
       " 'datetime',\n",
       " 'datetime_CAPI',\n",
       " 'sys',\n",
       " 'time',\n",
       " 'timedelta',\n",
       " 'timezone',\n",
       " 'tzinfo']"
      ]
     },
     "execution_count": 10,
     "metadata": {},
     "output_type": "execute_result"
    }
   ],
   "source": [
    "dir(datetime)"
   ]
  },
  {
   "cell_type": "code",
   "execution_count": 11,
   "id": "ce47168b",
   "metadata": {},
   "outputs": [
    {
     "data": {
      "text/plain": [
       "datetime.datetime(2022, 5, 30, 0, 0)"
      ]
     },
     "execution_count": 11,
     "metadata": {},
     "output_type": "execute_result"
    }
   ],
   "source": [
    "# Creating Data Objects\n",
    "x = datetime.datetime(2022, 5, 30)\n",
    "x"
   ]
  },
  {
   "cell_type": "code",
   "execution_count": 12,
   "id": "f358f1c4",
   "metadata": {},
   "outputs": [
    {
     "data": {
      "text/plain": [
       "datetime.datetime(2022, 8, 9, 13, 50, 43, 367064)"
      ]
     },
     "execution_count": 12,
     "metadata": {},
     "output_type": "execute_result"
    }
   ],
   "source": [
    "x = datetime.datetime.now()\n",
    "x"
   ]
  },
  {
   "cell_type": "code",
   "execution_count": 13,
   "id": "1318f6e2",
   "metadata": {},
   "outputs": [
    {
     "name": "stdout",
     "output_type": "stream",
     "text": [
      "2022-08-09 13:50:43.367064\n"
     ]
    }
   ],
   "source": [
    "print(x)"
   ]
  },
  {
   "cell_type": "code",
   "execution_count": 14,
   "id": "423e2d89",
   "metadata": {},
   "outputs": [
    {
     "name": "stdout",
     "output_type": "stream",
     "text": [
      "2022\n",
      "Tuesday\n"
     ]
    }
   ],
   "source": [
    "print(x.year)\n",
    "print(x.strftime(\"%A\")) #Which day it is"
   ]
  },
  {
   "cell_type": "code",
   "execution_count": 16,
   "id": "a385751d",
   "metadata": {},
   "outputs": [
    {
     "name": "stdout",
     "output_type": "stream",
     "text": [
      "2\n"
     ]
    }
   ],
   "source": [
    "print(x.strftime(\"%w\")) #day num"
   ]
  },
  {
   "cell_type": "code",
   "execution_count": 17,
   "id": "26934ba5",
   "metadata": {},
   "outputs": [],
   "source": [
    "myfile = open(\"pyFile.txt\", \"w+\")"
   ]
  },
  {
   "cell_type": "code",
   "execution_count": 18,
   "id": "6a8a1cdd",
   "metadata": {},
   "outputs": [
    {
     "name": "stdout",
     "output_type": "stream",
     "text": [
      "Name of file: pyFile.txt\n"
     ]
    }
   ],
   "source": [
    "print(\"Name of file:\", myfile.name)"
   ]
  },
  {
   "cell_type": "code",
   "execution_count": 19,
   "id": "56a1d2e0",
   "metadata": {},
   "outputs": [
    {
     "name": "stdout",
     "output_type": "stream",
     "text": [
      "Closed or Not: False\n"
     ]
    }
   ],
   "source": [
    "print(\"Closed or Not:\", myfile.closed)"
   ]
  },
  {
   "cell_type": "code",
   "execution_count": 20,
   "id": "e78860e7",
   "metadata": {},
   "outputs": [
    {
     "name": "stdout",
     "output_type": "stream",
     "text": [
      "Opening Mode: w+\n"
     ]
    }
   ],
   "source": [
    "print(\"Opening Mode:\", myfile.mode)"
   ]
  },
  {
   "cell_type": "code",
   "execution_count": 21,
   "id": "a08a28d1",
   "metadata": {},
   "outputs": [
    {
     "name": "stdout",
     "output_type": "stream",
     "text": [
      "Closed or Not: True\n"
     ]
    }
   ],
   "source": [
    "myfile.close()\n",
    "print(\"Closed or Not:\", myfile.closed)"
   ]
  },
  {
   "cell_type": "code",
   "execution_count": 23,
   "id": "d2b17dad",
   "metadata": {},
   "outputs": [],
   "source": [
    "#Open a file\n",
    "myfile = open(\"pyfile.txt\",\"w\")\n",
    "myfile.write(\"Python writes test to file\")\n",
    "myfile.close()"
   ]
  },
  {
   "cell_type": "code",
   "execution_count": 24,
   "id": "b0034d84",
   "metadata": {},
   "outputs": [
    {
     "name": "stdout",
     "output_type": "stream",
     "text": [
      "Read string is : Python writes test to file\n"
     ]
    }
   ],
   "source": [
    "myfile = open(\"pyFile.txt\",\"r\")\n",
    "str = myfile.read(70) # number of bytes\n",
    "print(\"Read string is :\", str)"
   ]
  }
 ],
 "metadata": {
  "kernelspec": {
   "display_name": "Python 3 (ipykernel)",
   "language": "python",
   "name": "python3"
  },
  "language_info": {
   "codemirror_mode": {
    "name": "ipython",
    "version": 3
   },
   "file_extension": ".py",
   "mimetype": "text/x-python",
   "name": "python",
   "nbconvert_exporter": "python",
   "pygments_lexer": "ipython3",
   "version": "3.9.12"
  }
 },
 "nbformat": 4,
 "nbformat_minor": 5
}
