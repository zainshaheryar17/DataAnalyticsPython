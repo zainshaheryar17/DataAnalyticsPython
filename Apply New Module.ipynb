{
 "cells": [
  {
   "cell_type": "code",
   "execution_count": 1,
   "id": "da6df8c5",
   "metadata": {},
   "outputs": [],
   "source": [
    "from NewModule import Calc"
   ]
  },
  {
   "cell_type": "markdown",
   "id": "eead5280",
   "metadata": {},
   "source": [
    "### CREATING OBJECT\n",
    "### Here object c is an instance of the class Calc"
   ]
  },
  {
   "cell_type": "code",
   "execution_count": 3,
   "id": "91d9bf7d",
   "metadata": {},
   "outputs": [],
   "source": [
    "c = Calc() # Calc() is a Constructor"
   ]
  },
  {
   "cell_type": "code",
   "execution_count": 5,
   "id": "b37c9575",
   "metadata": {},
   "outputs": [
    {
     "name": "stdout",
     "output_type": "stream",
     "text": [
      "13\n"
     ]
    }
   ],
   "source": [
    "a = c.addition(6,7)\n",
    "print(a)"
   ]
  },
  {
   "cell_type": "code",
   "execution_count": null,
   "id": "ac6512c5",
   "metadata": {},
   "outputs": [],
   "source": []
  },
  {
   "cell_type": "code",
   "execution_count": null,
   "id": "b78e14af",
   "metadata": {},
   "outputs": [],
   "source": []
  },
  {
   "cell_type": "code",
   "execution_count": null,
   "id": "829c1668",
   "metadata": {},
   "outputs": [],
   "source": []
  },
  {
   "cell_type": "code",
   "execution_count": null,
   "id": "283d4380",
   "metadata": {},
   "outputs": [],
   "source": []
  },
  {
   "cell_type": "code",
   "execution_count": null,
   "id": "0f7ac7a6",
   "metadata": {},
   "outputs": [],
   "source": []
  }
 ],
 "metadata": {
  "kernelspec": {
   "display_name": "Python 3 (ipykernel)",
   "language": "python",
   "name": "python3"
  },
  "language_info": {
   "codemirror_mode": {
    "name": "ipython",
    "version": 3
   },
   "file_extension": ".py",
   "mimetype": "text/x-python",
   "name": "python",
   "nbconvert_exporter": "python",
   "pygments_lexer": "ipython3",
   "version": "3.9.7"
  }
 },
 "nbformat": 4,
 "nbformat_minor": 5
}
