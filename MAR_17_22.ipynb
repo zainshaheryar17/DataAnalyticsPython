{
 "cells": [
  {
   "cell_type": "code",
   "execution_count": null,
   "id": "0f24ede2",
   "metadata": {},
   "outputs": [],
   "source": []
  },
  {
   "cell_type": "code",
   "execution_count": 1,
   "id": "69ad65ff",
   "metadata": {},
   "outputs": [],
   "source": [
    "num = 5"
   ]
  },
  {
   "cell_type": "code",
   "execution_count": 2,
   "id": "45a79986",
   "metadata": {},
   "outputs": [
    {
     "name": "stdout",
     "output_type": "stream",
     "text": [
      "5\n"
     ]
    }
   ],
   "source": [
    "print(num)"
   ]
  },
  {
   "cell_type": "code",
   "execution_count": 3,
   "id": "965f4e1e",
   "metadata": {},
   "outputs": [
    {
     "name": "stdout",
     "output_type": "stream",
     "text": [
      "5\n"
     ]
    }
   ],
   "source": [
    "num = 5\n",
    "print(num)"
   ]
  },
  {
   "cell_type": "code",
   "execution_count": 5,
   "id": "ed42d1d5",
   "metadata": {},
   "outputs": [
    {
     "name": "stdout",
     "output_type": "stream",
     "text": [
      "Number: 5\n"
     ]
    }
   ],
   "source": [
    "print(f\"Number: {num}\")     #put f before inverted commas to add external variable value. "
   ]
  },
  {
   "cell_type": "code",
   "execution_count": 10,
   "id": "2ef29c82",
   "metadata": {},
   "outputs": [
    {
     "name": "stdout",
     "output_type": "stream",
     "text": [
      "Hello\n",
      "world\n"
     ]
    }
   ],
   "source": [
    "print(\"Hello\")\n",
    "print(\"world\")"
   ]
  },
  {
   "cell_type": "code",
   "execution_count": 11,
   "id": "21a48563",
   "metadata": {},
   "outputs": [
    {
     "name": "stdout",
     "output_type": "stream",
     "text": [
      "Hello-world\n"
     ]
    }
   ],
   "source": [
    "print(\"Hello\", end = \"-\")\n",
    "print(\"world\")"
   ]
  },
  {
   "cell_type": "code",
   "execution_count": 6,
   "id": "82a355ed",
   "metadata": {},
   "outputs": [
    {
     "name": "stdout",
     "output_type": "stream",
     "text": [
      "Hello-World-3rd\n"
     ]
    }
   ],
   "source": [
    "print(\"Hello\", end = \"-\") #end will connect with whatever you stored in this. by default it is line break.\n",
    "print(\"World\", end = \"-\")\n",
    "print(\"3rd\")"
   ]
  },
  {
   "cell_type": "code",
   "execution_count": 15,
   "id": "5d4748d7",
   "metadata": {},
   "outputs": [
    {
     "name": "stdout",
     "output_type": "stream",
     "text": [
      "Hello World\n"
     ]
    }
   ],
   "source": [
    "print(\"Hello\", \"World\", sep = \" \") #sep means separator "
   ]
  },
  {
   "cell_type": "code",
   "execution_count": 7,
   "id": "cca740df",
   "metadata": {},
   "outputs": [
    {
     "name": "stdout",
     "output_type": "stream",
     "text": [
      "Hello World\n"
     ]
    }
   ],
   "source": [
    "a = \"Hello\"\n",
    "print(\"%s World\" %a)"
   ]
  },
  {
   "cell_type": "code",
   "execution_count": 17,
   "id": "cb401495",
   "metadata": {},
   "outputs": [
    {
     "name": "stdout",
     "output_type": "stream",
     "text": [
      "Hello World Hello\n"
     ]
    }
   ],
   "source": [
    "a = \"Hello\"\n",
    "print(\"%s World %s\" %(a,a))"
   ]
  },
  {
   "cell_type": "code",
   "execution_count": 18,
   "id": "447b0f6c",
   "metadata": {},
   "outputs": [
    {
     "name": "stdout",
     "output_type": "stream",
     "text": [
      "Hello World\n"
     ]
    }
   ],
   "source": [
    "a = \"Hello\"\n",
    "b = \"World\"\n",
    "print(\"%s %s\" %(a,b))"
   ]
  },
  {
   "cell_type": "code",
   "execution_count": 19,
   "id": "27d898e4",
   "metadata": {},
   "outputs": [
    {
     "name": "stdout",
     "output_type": "stream",
     "text": [
      "Hello World 123\n"
     ]
    }
   ],
   "source": [
    "a = \"Hello\"\n",
    "b = 123\n",
    "print(\"%s World %d\" %(a,b))"
   ]
  },
  {
   "cell_type": "code",
   "execution_count": 20,
   "id": "52a759ef",
   "metadata": {},
   "outputs": [
    {
     "name": "stdout",
     "output_type": "stream",
     "text": [
      "A : 4\n",
      "B : 5\n"
     ]
    }
   ],
   "source": [
    "a, b = 4, 5\n",
    "print(\"A :\", a)\n",
    "print(\"B :\", b)"
   ]
  },
  {
   "cell_type": "code",
   "execution_count": 21,
   "id": "af5783d5",
   "metadata": {},
   "outputs": [
    {
     "name": "stdout",
     "output_type": "stream",
     "text": [
      "A : 5\n",
      "B : 4\n"
     ]
    }
   ],
   "source": [
    "# Swapping\n",
    "a, b = b, a\n",
    "print(\"A :\", a)\n",
    "print(\"B :\", b)"
   ]
  },
  {
   "cell_type": "markdown",
   "id": "8340f834",
   "metadata": {},
   "source": [
    "### OPERATORS"
   ]
  },
  {
   "cell_type": "code",
   "execution_count": 8,
   "id": "9ee599f2",
   "metadata": {},
   "outputs": [
    {
     "data": {
      "text/plain": [
       "81"
      ]
     },
     "execution_count": 8,
     "metadata": {},
     "output_type": "execute_result"
    }
   ],
   "source": [
    "#Exponent\n",
    "3**4"
   ]
  },
  {
   "cell_type": "code",
   "execution_count": 10,
   "id": "3d3b5aa9",
   "metadata": {},
   "outputs": [
    {
     "data": {
      "text/plain": [
       "2.6666666666666665"
      ]
     },
     "execution_count": 10,
     "metadata": {},
     "output_type": "execute_result"
    }
   ],
   "source": [
    "# Division\n",
    "8/3"
   ]
  },
  {
   "cell_type": "code",
   "execution_count": 12,
   "id": "4f56b70c",
   "metadata": {},
   "outputs": [
    {
     "data": {
      "text/plain": [
       "2"
      ]
     },
     "execution_count": 12,
     "metadata": {},
     "output_type": "execute_result"
    }
   ],
   "source": [
    "#Quotient\n",
    "8//3"
   ]
  },
  {
   "cell_type": "code",
   "execution_count": 25,
   "id": "68c4ac85",
   "metadata": {},
   "outputs": [
    {
     "data": {
      "text/plain": [
       "2"
      ]
     },
     "execution_count": 25,
     "metadata": {},
     "output_type": "execute_result"
    }
   ],
   "source": [
    "#Remainder or Modulus\n",
    "8%3"
   ]
  },
  {
   "cell_type": "code",
   "execution_count": 26,
   "id": "1507169b",
   "metadata": {},
   "outputs": [
    {
     "name": "stdout",
     "output_type": "stream",
     "text": [
      "aaa\n"
     ]
    }
   ],
   "source": [
    "print(\"a\"*3)"
   ]
  },
  {
   "cell_type": "code",
   "execution_count": 27,
   "id": "c63a94c7",
   "metadata": {},
   "outputs": [
    {
     "name": "stdout",
     "output_type": "stream",
     "text": [
      "sum: 9\n",
      "Diff: 1\n"
     ]
    }
   ],
   "source": [
    "print(\"sum:\", a+b)\n",
    "print(\"Diff:\", a-b)"
   ]
  },
  {
   "cell_type": "code",
   "execution_count": 31,
   "id": "96b038b1",
   "metadata": {},
   "outputs": [
    {
     "name": "stdout",
     "output_type": "stream",
     "text": [
      " Hello World - Hello World -\n"
     ]
    }
   ],
   "source": [
    "print(\" Hello World -\"*2)"
   ]
  },
  {
   "cell_type": "code",
   "execution_count": 32,
   "id": "5347e5f0",
   "metadata": {},
   "outputs": [
    {
     "name": "stdout",
     "output_type": "stream",
     "text": [
      " Hello World - Hello World -\n",
      "Close\n"
     ]
    }
   ],
   "source": [
    "print(\" Hello World -\"*2)\n",
    "print(\"Close\")"
   ]
  },
  {
   "cell_type": "code",
   "execution_count": 33,
   "id": "2bf6f7e9",
   "metadata": {},
   "outputs": [
    {
     "name": "stdout",
     "output_type": "stream",
     "text": [
      " Hello World - Hello World -Close\n"
     ]
    }
   ],
   "source": [
    "print(\" Hello World -\"*2, end = \"\")\n",
    "print(\"Close\")"
   ]
  },
  {
   "cell_type": "code",
   "execution_count": 34,
   "id": "434e8838",
   "metadata": {},
   "outputs": [
    {
     "name": "stdout",
     "output_type": "stream",
     "text": [
      " Hello World - Hello World -\b\n"
     ]
    }
   ],
   "source": [
    "print(\" Hello World -\"*2, end = \"\")\n",
    "print(\"\\b\")"
   ]
  },
  {
   "cell_type": "code",
   "execution_count": 16,
   "id": "5a973f9f",
   "metadata": {},
   "outputs": [
    {
     "name": "stdout",
     "output_type": "stream",
     "text": [
      " Hello World - Hello World -\b \b \b \b\n"
     ]
    }
   ],
   "source": [
    "print(\" Hello World -\"*2, end = \"\",)\n",
    "print(\"\\b\",\"\\b\",\"\\b\",\"\\b\")"
   ]
  },
  {
   "cell_type": "code",
   "execution_count": 17,
   "id": "643235d8",
   "metadata": {},
   "outputs": [
    {
     "name": "stdout",
     "output_type": "stream",
     "text": [
      "Hello\n",
      "World\n"
     ]
    }
   ],
   "source": [
    "print(\"Hello\\nWorld\")"
   ]
  },
  {
   "cell_type": "code",
   "execution_count": 46,
   "id": "2c199b1a",
   "metadata": {},
   "outputs": [
    {
     "name": "stdout",
     "output_type": "stream",
     "text": [
      "Hello\tWorld\n"
     ]
    }
   ],
   "source": [
    "print(\"Hello\\tWorld\")"
   ]
  },
  {
   "cell_type": "code",
   "execution_count": 47,
   "id": "e4ac796a",
   "metadata": {},
   "outputs": [
    {
     "name": "stdout",
     "output_type": "stream",
     "text": [
      "Hello \bWorld\n"
     ]
    }
   ],
   "source": [
    "print(\"Hello \\bWorld\")"
   ]
  },
  {
   "cell_type": "code",
   "execution_count": 48,
   "id": "6534f126",
   "metadata": {},
   "outputs": [
    {
     "name": "stdout",
     "output_type": "stream",
     "text": [
      "Hello \\b World\n"
     ]
    }
   ],
   "source": [
    "print(\"Hello \\\\b World\")"
   ]
  },
  {
   "cell_type": "code",
   "execution_count": 49,
   "id": "fdd4ac9b",
   "metadata": {},
   "outputs": [
    {
     "name": "stdout",
     "output_type": "stream",
     "text": [
      "Hello \" World\n"
     ]
    }
   ],
   "source": [
    "print(\"Hello \\\" World\")"
   ]
  },
  {
   "cell_type": "code",
   "execution_count": 50,
   "id": "4774f0df",
   "metadata": {},
   "outputs": [
    {
     "name": "stdout",
     "output_type": "stream",
     "text": [
      "Hello \" World\n"
     ]
    }
   ],
   "source": [
    "print('Hello \" World')"
   ]
  },
  {
   "cell_type": "code",
   "execution_count": null,
   "id": "234a9bf6",
   "metadata": {},
   "outputs": [],
   "source": []
  },
  {
   "cell_type": "code",
   "execution_count": null,
   "id": "beff70cc",
   "metadata": {},
   "outputs": [],
   "source": []
  }
 ],
 "metadata": {
  "kernelspec": {
   "display_name": "Python 3 (ipykernel)",
   "language": "python",
   "name": "python3"
  },
  "language_info": {
   "codemirror_mode": {
    "name": "ipython",
    "version": 3
   },
   "file_extension": ".py",
   "mimetype": "text/x-python",
   "name": "python",
   "nbconvert_exporter": "python",
   "pygments_lexer": "ipython3",
   "version": "3.9.12"
  }
 },
 "nbformat": 4,
 "nbformat_minor": 5
}
